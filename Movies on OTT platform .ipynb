{
 "cells": [
  {
   "cell_type": "markdown",
   "id": "039e7fd5-aac1-4cfd-b28f-6fa8595cc24f",
   "metadata": {},
   "source": [
    "# Objective :\n",
    "### To identify the best OTT platform for releasing movies by analyzing IMDb ratings across different genres and platforms, aiming to optimize content release strategies for maximum viewer engagement and satisfaction."
   ]
  },
  {
   "cell_type": "markdown",
   "id": "c450a2a2-c047-485f-9f0c-4e6101e43ef4",
   "metadata": {},
   "source": [
    "# ----------------------------------------------------------------------------------------"
   ]
  },
  {
   "cell_type": "markdown",
   "id": "b4941765-f49a-4f35-8214-59fae508f08f",
   "metadata": {},
   "source": [
    "### Import Libraries"
   ]
  },
  {
   "cell_type": "code",
   "execution_count": 3,
   "id": "83ee1975-9320-44e6-850a-4b32d939e0f2",
   "metadata": {},
   "outputs": [],
   "source": [
    "import pandas as pd\n",
    "import numpy as np\n",
    "import matplotlib.pyplot as plt\n",
    "import seaborn as sns\n",
    "import plotly.graph_objects as go"
   ]
  },
  {
   "cell_type": "markdown",
   "id": "72ce6d40-e1a4-482e-913c-2aa181093ed0",
   "metadata": {},
   "source": [
    "## Data Collection"
   ]
  },
  {
   "cell_type": "code",
   "execution_count": 5,
   "id": "1f0a4ef6-0469-461e-92d3-b3677b6d51d8",
   "metadata": {},
   "outputs": [],
   "source": [
    "movies=pd.read_csv(\"MoviesOnOTTPlatforms.csv\", encoding=\"utf-8\", encoding_errors=\"ignore\")"
   ]
  },
  {
   "cell_type": "markdown",
   "id": "767d3177-af07-4f0d-b190-713e412929b8",
   "metadata": {},
   "source": [
    "#####  Encoding=utf-8 is used because,file is likely contains invalid or non-UTF-8 characters, and this ensures the program does not crash."
   ]
  },
  {
   "cell_type": "code",
   "execution_count": 7,
   "id": "0bf446f1-925d-4a86-849f-d52e49962407",
   "metadata": {},
   "outputs": [
    {
     "data": {
      "text/html": [
       "<div>\n",
       "<style scoped>\n",
       "    .dataframe tbody tr th:only-of-type {\n",
       "        vertical-align: middle;\n",
       "    }\n",
       "\n",
       "    .dataframe tbody tr th {\n",
       "        vertical-align: top;\n",
       "    }\n",
       "\n",
       "    .dataframe thead th {\n",
       "        text-align: right;\n",
       "    }\n",
       "</style>\n",
       "<table border=\"1\" class=\"dataframe\">\n",
       "  <thead>\n",
       "    <tr style=\"text-align: right;\">\n",
       "      <th></th>\n",
       "      <th>ID</th>\n",
       "      <th>Title</th>\n",
       "      <th>Year</th>\n",
       "      <th>Age</th>\n",
       "      <th>IMDb</th>\n",
       "      <th>Rotten Tomatoes</th>\n",
       "      <th>Netflix</th>\n",
       "      <th>Hulu</th>\n",
       "      <th>Prime Video</th>\n",
       "      <th>Disney+</th>\n",
       "      <th>Type</th>\n",
       "      <th>Directors</th>\n",
       "      <th>Genres</th>\n",
       "      <th>Country</th>\n",
       "      <th>Language</th>\n",
       "      <th>Runtime in Min</th>\n",
       "    </tr>\n",
       "  </thead>\n",
       "  <tbody>\n",
       "    <tr>\n",
       "      <th>0</th>\n",
       "      <td>15902</td>\n",
       "      <td>\"22\" A film about Veterans, Healthcare and Sui...</td>\n",
       "      <td>2018</td>\n",
       "      <td>NaN</td>\n",
       "      <td>NaN</td>\n",
       "      <td>NaN</td>\n",
       "      <td>0</td>\n",
       "      <td>0</td>\n",
       "      <td>1</td>\n",
       "      <td>0</td>\n",
       "      <td>0.0</td>\n",
       "      <td>NaN</td>\n",
       "      <td>NaN</td>\n",
       "      <td>NaN</td>\n",
       "      <td>NaN</td>\n",
       "      <td>NaN</td>\n",
       "    </tr>\n",
       "    <tr>\n",
       "      <th>1</th>\n",
       "      <td>10303</td>\n",
       "      <td>IMomSoHard Live</td>\n",
       "      <td>2019</td>\n",
       "      <td>18+</td>\n",
       "      <td>5.2</td>\n",
       "      <td>NaN</td>\n",
       "      <td>0</td>\n",
       "      <td>0</td>\n",
       "      <td>1</td>\n",
       "      <td>0</td>\n",
       "      <td>0.0</td>\n",
       "      <td>Brian Volk-Weiss</td>\n",
       "      <td>Comedy</td>\n",
       "      <td>United States</td>\n",
       "      <td>English</td>\n",
       "      <td>NaN</td>\n",
       "    </tr>\n",
       "    <tr>\n",
       "      <th>2</th>\n",
       "      <td>15143</td>\n",
       "      <td>LoveSwag</td>\n",
       "      <td>2015</td>\n",
       "      <td>13+</td>\n",
       "      <td>5.4</td>\n",
       "      <td>NaN</td>\n",
       "      <td>0</td>\n",
       "      <td>0</td>\n",
       "      <td>1</td>\n",
       "      <td>0</td>\n",
       "      <td>0.0</td>\n",
       "      <td>Austin Davoren</td>\n",
       "      <td>Short,Comedy,Drama,Romance</td>\n",
       "      <td>United States</td>\n",
       "      <td>English</td>\n",
       "      <td>2.0</td>\n",
       "    </tr>\n",
       "    <tr>\n",
       "      <th>3</th>\n",
       "      <td>3331</td>\n",
       "      <td>Rucker50</td>\n",
       "      <td>2016</td>\n",
       "      <td>NaN</td>\n",
       "      <td>5.3</td>\n",
       "      <td>NaN</td>\n",
       "      <td>1</td>\n",
       "      <td>0</td>\n",
       "      <td>0</td>\n",
       "      <td>0</td>\n",
       "      <td>0.0</td>\n",
       "      <td>Robert McCullough Jr.</td>\n",
       "      <td>Documentary</td>\n",
       "      <td>United States</td>\n",
       "      <td>English</td>\n",
       "      <td>56.0</td>\n",
       "    </tr>\n",
       "    <tr>\n",
       "      <th>4</th>\n",
       "      <td>2798</td>\n",
       "      <td>Selfie</td>\n",
       "      <td>2014</td>\n",
       "      <td>NaN</td>\n",
       "      <td>6.1</td>\n",
       "      <td>NaN</td>\n",
       "      <td>1</td>\n",
       "      <td>0</td>\n",
       "      <td>0</td>\n",
       "      <td>0</td>\n",
       "      <td>0.0</td>\n",
       "      <td>Cristina Jacob</td>\n",
       "      <td>Comedy</td>\n",
       "      <td>Romania</td>\n",
       "      <td>Romanian</td>\n",
       "      <td>123.0</td>\n",
       "    </tr>\n",
       "  </tbody>\n",
       "</table>\n",
       "</div>"
      ],
      "text/plain": [
       "      ID                                              Title  Year  Age  IMDb  \\\n",
       "0  15902  \"22\" A film about Veterans, Healthcare and Sui...  2018  NaN   NaN   \n",
       "1  10303                                    IMomSoHard Live  2019  18+   5.2   \n",
       "2  15143                                           LoveSwag  2015  13+   5.4   \n",
       "3   3331                                           Rucker50  2016  NaN   5.3   \n",
       "4   2798                                             Selfie  2014  NaN   6.1   \n",
       "\n",
       "   Rotten Tomatoes  Netflix  Hulu  Prime Video  Disney+  Type  \\\n",
       "0              NaN        0     0            1        0   0.0   \n",
       "1              NaN        0     0            1        0   0.0   \n",
       "2              NaN        0     0            1        0   0.0   \n",
       "3              NaN        1     0            0        0   0.0   \n",
       "4              NaN        1     0            0        0   0.0   \n",
       "\n",
       "               Directors                      Genres        Country  Language  \\\n",
       "0                    NaN                         NaN            NaN       NaN   \n",
       "1       Brian Volk-Weiss                      Comedy  United States   English   \n",
       "2         Austin Davoren  Short,Comedy,Drama,Romance  United States   English   \n",
       "3  Robert McCullough Jr.                 Documentary  United States   English   \n",
       "4         Cristina Jacob                      Comedy        Romania  Romanian   \n",
       "\n",
       "   Runtime in Min  \n",
       "0             NaN  \n",
       "1             NaN  \n",
       "2             2.0  \n",
       "3            56.0  \n",
       "4           123.0  "
      ]
     },
     "execution_count": 7,
     "metadata": {},
     "output_type": "execute_result"
    }
   ],
   "source": [
    "movies.head()"
   ]
  },
  {
   "cell_type": "markdown",
   "id": "79a6539a-95f4-4c34-a08d-60c155463506",
   "metadata": {},
   "source": [
    "# ----------------------------------------------------------------------------------------"
   ]
  },
  {
   "cell_type": "markdown",
   "id": "f01d7b5f-d8c8-4314-b593-5db4c277b0a5",
   "metadata": {},
   "source": [
    "## Data Information"
   ]
  },
  {
   "cell_type": "code",
   "execution_count": 9,
   "id": "772f5ebf-2b42-479c-9832-094760231317",
   "metadata": {},
   "outputs": [
    {
     "name": "stdout",
     "output_type": "stream",
     "text": [
      "<class 'pandas.core.frame.DataFrame'>\n",
      "RangeIndex: 16804 entries, 0 to 16803\n",
      "Data columns (total 16 columns):\n",
      " #   Column           Non-Null Count  Dtype  \n",
      "---  ------           --------------  -----  \n",
      " 0   ID               16804 non-null  int64  \n",
      " 1   Title            16804 non-null  object \n",
      " 2   Year             16804 non-null  int64  \n",
      " 3   Age              7414 non-null   object \n",
      " 4   IMDb             16233 non-null  float64\n",
      " 5   Rotten Tomatoes  5158 non-null   float64\n",
      " 6   Netflix          16804 non-null  int64  \n",
      " 7   Hulu             16804 non-null  int64  \n",
      " 8   Prime Video      16804 non-null  int64  \n",
      " 9   Disney+          16804 non-null  int64  \n",
      " 10  Type             16744 non-null  float64\n",
      " 11  Directors        16078 non-null  object \n",
      " 12  Genres           16529 non-null  object \n",
      " 13  Country          16369 non-null  object \n",
      " 14  Language         16190 non-null  object \n",
      " 15  Runtime in Min   16212 non-null  float64\n",
      "dtypes: float64(4), int64(6), object(6)\n",
      "memory usage: 2.1+ MB\n"
     ]
    }
   ],
   "source": [
    "movies.info()"
   ]
  },
  {
   "cell_type": "code",
   "execution_count": 10,
   "id": "98d15e9f-cd98-46e1-baa2-46c75f5adbf9",
   "metadata": {},
   "outputs": [
    {
     "data": {
      "text/plain": [
       "(16804, 16)"
      ]
     },
     "execution_count": 10,
     "metadata": {},
     "output_type": "execute_result"
    }
   ],
   "source": [
    "movies.shape  "
   ]
  },
  {
   "cell_type": "code",
   "execution_count": 11,
   "id": "17f7c8f6-c4f5-4d2c-9185-4c9ded5f6325",
   "metadata": {},
   "outputs": [
    {
     "data": {
      "text/plain": [
       "Index(['ID', 'Title', 'Year', 'Age', 'IMDb', 'Rotten Tomatoes', 'Netflix',\n",
       "       'Hulu', 'Prime Video', 'Disney+', 'Type', 'Directors', 'Genres',\n",
       "       'Country', 'Language', 'Runtime in Min'],\n",
       "      dtype='object')"
      ]
     },
     "execution_count": 11,
     "metadata": {},
     "output_type": "execute_result"
    }
   ],
   "source": [
    "movies.columns     "
   ]
  },
  {
   "cell_type": "code",
   "execution_count": 12,
   "id": "10347427-3fdf-4c79-a451-f13273b9edf6",
   "metadata": {},
   "outputs": [
    {
     "data": {
      "text/plain": [
       "ID                   int64\n",
       "Title               object\n",
       "Year                 int64\n",
       "Age                 object\n",
       "IMDb               float64\n",
       "Rotten Tomatoes    float64\n",
       "Netflix              int64\n",
       "Hulu                 int64\n",
       "Prime Video          int64\n",
       "Disney+              int64\n",
       "Type               float64\n",
       "Directors           object\n",
       "Genres              object\n",
       "Country             object\n",
       "Language            object\n",
       "Runtime in Min     float64\n",
       "dtype: object"
      ]
     },
     "execution_count": 12,
     "metadata": {},
     "output_type": "execute_result"
    }
   ],
   "source": [
    "movies.dtypes"
   ]
  },
  {
   "cell_type": "markdown",
   "id": "101aa74e-1f50-4004-a076-0a36f6d43e9c",
   "metadata": {},
   "source": [
    "# ----------------------------------------------------------------------------------------"
   ]
  },
  {
   "cell_type": "markdown",
   "id": "e3416db4-1f82-4f05-be43-0c3bf26254e9",
   "metadata": {},
   "source": [
    "## Data PreProcessing"
   ]
  },
  {
   "cell_type": "markdown",
   "id": "960fd5a3-ce92-4e56-9629-ada742232e2b",
   "metadata": {},
   "source": [
    "### A) Data _Cleaning"
   ]
  },
  {
   "cell_type": "code",
   "execution_count": 15,
   "id": "b343cf7c-4bdf-49f6-9240-47073e5a409e",
   "metadata": {},
   "outputs": [
    {
     "data": {
      "text/plain": [
       "0        False\n",
       "1        False\n",
       "2        False\n",
       "3        False\n",
       "4        False\n",
       "         ...  \n",
       "16799    False\n",
       "16800    False\n",
       "16801    False\n",
       "16802    False\n",
       "16803    False\n",
       "Length: 16804, dtype: bool"
      ]
     },
     "execution_count": 15,
     "metadata": {},
     "output_type": "execute_result"
    }
   ],
   "source": [
    "movies.duplicated()"
   ]
  },
  {
   "cell_type": "code",
   "execution_count": 16,
   "id": "f24c3c10-6713-4f1e-875c-f36ef32ad607",
   "metadata": {},
   "outputs": [
    {
     "data": {
      "text/plain": [
       "ID                     0\n",
       "Title                  0\n",
       "Year                   0\n",
       "Age                 9390\n",
       "IMDb                 571\n",
       "Rotten Tomatoes    11646\n",
       "Netflix                0\n",
       "Hulu                   0\n",
       "Prime Video            0\n",
       "Disney+                0\n",
       "Type                  60\n",
       "Directors            726\n",
       "Genres               275\n",
       "Country              435\n",
       "Language             614\n",
       "Runtime in Min       592\n",
       "dtype: int64"
      ]
     },
     "execution_count": 16,
     "metadata": {},
     "output_type": "execute_result"
    }
   ],
   "source": [
    "movies.isnull().sum()"
   ]
  },
  {
   "cell_type": "code",
   "execution_count": 17,
   "id": "05dc58fc-15ce-4b88-bbc3-a67480f90ca2",
   "metadata": {},
   "outputs": [
    {
     "data": {
      "text/plain": [
       "<Axes: >"
      ]
     },
     "execution_count": 17,
     "metadata": {},
     "output_type": "execute_result"
    },
    {
     "data": {
      "image/png": "[encoded data removed]",
      "text/plain": [
       "<Figure size 640x480 with 2 Axes>"
      ]
     },
     "metadata": {},
     "output_type": "display_data"
    }
   ],
   "source": [
    "sns.heatmap(movies.isnull(),cmap=\"viridis\")"
   ]
  },
  {
   "cell_type": "markdown",
   "id": "78263756-62ab-4e51-983b-b4b5c707e3bb",
   "metadata": {},
   "source": [
    "##### The heatmap clearly shows the missing/null value majorly present in Rotten Tomatoes column and \"Age\" colums. "
   ]
  },
  {
   "cell_type": "code",
   "execution_count": 19,
   "id": "f6f93432-4ffa-466c-9ae4-ea45eebe899b",
   "metadata": {},
   "outputs": [],
   "source": [
    "movies.columns = movies.columns.str.replace(' ','_')               # it will replace the space between the columns with the '_\"\n",
    "movies.columns = movies.columns.str.strip()                        # it will trim the extra space from the columns"
   ]
  },
  {
   "cell_type": "markdown",
   "id": "487100af-de67-4829-be38-9a68e21fb761",
   "metadata": {},
   "source": [
    "#### Missing Value Percentage\n",
    "\n"
   ]
  },
  {
   "cell_type": "code",
   "execution_count": 21,
   "id": "ca65e38c-e6c6-46e6-bef0-93d07e5824bb",
   "metadata": {},
   "outputs": [],
   "source": [
    "Missing_Age=movies.Age.isnull().sum()/len(movies)*100"
   ]
  },
  {
   "cell_type": "code",
   "execution_count": 22,
   "id": "d305a916-0e42-4d9b-ac2d-d8127bf397f6",
   "metadata": {},
   "outputs": [],
   "source": [
    "Missing_IMDb=movies.IMDb.isnull().sum()/len(movies)*100"
   ]
  },
  {
   "cell_type": "code",
   "execution_count": 23,
   "id": "82178fed-9a83-484f-976d-86a7430beb38",
   "metadata": {},
   "outputs": [],
   "source": [
    "Missing_RottenT=movies.Rotten_Tomatoes.isnull().sum()/len(movies)*100"
   ]
  },
  {
   "cell_type": "code",
   "execution_count": 24,
   "id": "2b389481-1db9-4d67-8bc1-8fa79d688c72",
   "metadata": {},
   "outputs": [],
   "source": [
    "Missing_Type=movies.Type.isnull().sum()/len(movies)*100"
   ]
  },
  {
   "cell_type": "code",
   "execution_count": 25,
   "id": "1cf0793c-19b6-407d-a4d9-d84a61136f16",
   "metadata": {},
   "outputs": [],
   "source": [
    "Missing_Directors =movies.Directors.isnull().sum()/len(movies)*100"
   ]
  },
  {
   "cell_type": "code",
   "execution_count": 26,
   "id": "7ee48b8c-9031-4ccc-9a6f-c61657970200",
   "metadata": {},
   "outputs": [],
   "source": [
    "Missing_Genres =movies.Genres.isnull().sum()/len(movies)*100"
   ]
  },
  {
   "cell_type": "code",
   "execution_count": 27,
   "id": "cd2d19cc-49fd-4da3-b7fd-2b0c16801135",
   "metadata": {},
   "outputs": [],
   "source": [
    "Missing_Country =movies.Country.isnull().sum()/len(movies)*100"
   ]
  },
  {
   "cell_type": "code",
   "execution_count": 28,
   "id": "39731922-f39c-45c0-9960-1e0750da7659",
   "metadata": {},
   "outputs": [],
   "source": [
    "Missing_Language =movies.Language.isnull().sum()/len(movies)*100"
   ]
  },
  {
   "cell_type": "code",
   "execution_count": 29,
   "id": "64534e9d-c778-4403-b0cf-6f88e0d0baed",
   "metadata": {},
   "outputs": [],
   "source": [
    "Missing_Runtime_in_Min =movies.Runtime_in_Min.isnull().sum()/len(movies)*100"
   ]
  },
  {
   "cell_type": "code",
   "execution_count": 30,
   "id": "8f0c2ff2-6494-42a3-ae7b-3ec9ca5f93c5",
   "metadata": {},
   "outputs": [
    {
     "name": "stdout",
     "output_type": "stream",
     "text": [
      "Age 55.88 %\n",
      "IMDb 3.4 %\n",
      "Rotten_Tomatoes 69.3 %\n",
      "Type 0.36 %\n",
      "Directors 4.32 %\n",
      "Genres 1.64 %\n",
      "Country 2.59 %\n",
      "Language 3.65 %\n",
      "Runtime_in_Min 3.52 %\n"
     ]
    }
   ],
   "source": [
    "print(\"Age\",round(Missing_Age,2),\"%\")\n",
    "print(\"IMDb\",round(Missing_IMDb,2),\"%\")\n",
    "print(\"Rotten_Tomatoes\",round(Missing_RottenT,2),\"%\")\n",
    "print(\"Type\",round(Missing_Type,2),\"%\")\n",
    "print(\"Directors\",round(Missing_Directors,2),\"%\")\n",
    "print(\"Genres\",round(Missing_Genres,2),\"%\")\n",
    "print(\"Country\",round(Missing_Country,2),\"%\")\n",
    "print(\"Language\",round(Missing_Language,2),\"%\")\n",
    "print(\"Runtime_in_Min\",round(Missing_Runtime_in_Min,2),\"%\")"
   ]
  },
  {
   "cell_type": "markdown",
   "id": "4434816f-c7c3-4255-bc75-0aaf87241b57",
   "metadata": {},
   "source": [
    "##### It shows us that \"rotten_tomatoes\" and \"age\" columns are  having maximum percentage of missing values,so i will drop it and i will also drop the missing value rows from \"Director\" columns and fill the null values with their median and mode to get the clean data.  "
   ]
  },
  {
   "cell_type": "markdown",
   "id": "8cc43a76-fe88-4fb9-82fe-c4cabd950a95",
   "metadata": {},
   "source": [
    "#### Drop the Column"
   ]
  },
  {
   "cell_type": "code",
   "execution_count": 33,
   "id": "1a376042-2786-4a39-b512-936e1aa711ce",
   "metadata": {},
   "outputs": [],
   "source": [
    "movies.drop([\"Rotten_Tomatoes\",\"Age\"],axis=1,inplace=True)"
   ]
  },
  {
   "cell_type": "code",
   "execution_count": 34,
   "id": "a279410e-f80e-4c31-80d6-13a6d60664b7",
   "metadata": {},
   "outputs": [],
   "source": [
    "movies.drop([\"Type\"],axis=1,inplace=True)   # As it is not necessary column for our analysis,so i am dropping it "
   ]
  },
  {
   "cell_type": "markdown",
   "id": "a795fe06-386c-4f32-ae70-df2cd6d57da0",
   "metadata": {},
   "source": [
    "#### Drop the Null values From Directors Column"
   ]
  },
  {
   "cell_type": "code",
   "execution_count": 36,
   "id": "b6de8e8f-12ee-42cb-9d2d-a19470ae0e50",
   "metadata": {},
   "outputs": [],
   "source": [
    "movies.dropna(subset=[\"Directors\"],inplace=True)"
   ]
  },
  {
   "cell_type": "markdown",
   "id": "b7035e0d-6883-49cd-aa52-cb729243458e",
   "metadata": {},
   "source": [
    "#### Fill the Null Values withe the median and mode."
   ]
  },
  {
   "cell_type": "code",
   "execution_count": 38,
   "id": "bb06e2d6-e073-4446-bea5-c26f3deaf223",
   "metadata": {},
   "outputs": [],
   "source": [
    "movies.fillna({\"Genres\": movies.Genres.mode()[0],\"IMDb\": movies.IMDb.max(),\"Country\": movies.Country.mode()[0],\"Language\": movies.Language.mode()[0],\"Runtime_in_Min\": movies.Runtime_in_Min.mean()}, inplace=True)\n"
   ]
  },
  {
   "cell_type": "code",
   "execution_count": 39,
   "id": "60a8f89c-a0f6-4e7e-b7ff-c62204a7e427",
   "metadata": {},
   "outputs": [
    {
     "data": {
      "text/plain": [
       "<Axes: >"
      ]
     },
     "execution_count": 39,
     "metadata": {},
     "output_type": "execute_result"
    },
    {
     "data": {
      "image/png": "[encoded data removed]",
      "text/plain": [
       "<Figure size 640x480 with 2 Axes>"
      ]
     },
     "metadata": {},
     "output_type": "display_data"
    }
   ],
   "source": [
    "sns.heatmap(movies.isnull(),cmap=\"viridis\")"
   ]
  },
  {
   "cell_type": "markdown",
   "id": "e40665e0-f2ae-40db-a9e5-c3b7a5850325",
   "metadata": {},
   "source": [
    "#### Our Data is Cleaned , we have droped unnecessary columns, unnecessary rows(null value rows from directors column),and filled some columns with their  median and modes."
   ]
  },
  {
   "cell_type": "markdown",
   "id": "6277b87c-ada0-4dad-a071-6f6ba625b20f",
   "metadata": {},
   "source": [
    "### ---------------------------------------------------------------------------------------------------------------------------------"
   ]
  },
  {
   "cell_type": "markdown",
   "id": "5070da6a-0e62-4331-83ca-8aaeb366d3e2",
   "metadata": {},
   "source": [
    "### B) Data Transformation"
   ]
  },
  {
   "cell_type": "markdown",
   "id": "0b14b306-31ca-40c3-bf2c-eda1238e1faa",
   "metadata": {},
   "source": [
    "#### Creating the columns"
   ]
  },
  {
   "cell_type": "markdown",
   "id": "380ca014-5940-46b6-be08-adca7143f7a5",
   "metadata": {},
   "source": [
    "##### IMDb_Rating_Category"
   ]
  },
  {
   "cell_type": "code",
   "execution_count": 43,
   "id": "bec08edd-b49d-47b5-8e3b-60c1ca9f8e70",
   "metadata": {},
   "outputs": [
    {
     "data": {
      "text/html": [
       "<div>\n",
       "<style scoped>\n",
       "    .dataframe tbody tr th:only-of-type {\n",
       "        vertical-align: middle;\n",
       "    }\n",
       "\n",
       "    .dataframe tbody tr th {\n",
       "        vertical-align: top;\n",
       "    }\n",
       "\n",
       "    .dataframe thead th {\n",
       "        text-align: right;\n",
       "    }\n",
       "</style>\n",
       "<table border=\"1\" class=\"dataframe\">\n",
       "  <thead>\n",
       "    <tr style=\"text-align: right;\">\n",
       "      <th></th>\n",
       "      <th>ID</th>\n",
       "      <th>Title</th>\n",
       "      <th>Year</th>\n",
       "      <th>IMDb</th>\n",
       "      <th>Netflix</th>\n",
       "      <th>Hulu</th>\n",
       "      <th>Prime_Video</th>\n",
       "      <th>Disney+</th>\n",
       "      <th>Directors</th>\n",
       "      <th>Genres</th>\n",
       "      <th>Country</th>\n",
       "      <th>Language</th>\n",
       "      <th>Runtime_in_Min</th>\n",
       "      <th>IMDb_Rating_Category</th>\n",
       "    </tr>\n",
       "  </thead>\n",
       "  <tbody>\n",
       "    <tr>\n",
       "      <th>1</th>\n",
       "      <td>10303</td>\n",
       "      <td>IMomSoHard Live</td>\n",
       "      <td>2019</td>\n",
       "      <td>5.2</td>\n",
       "      <td>0</td>\n",
       "      <td>0</td>\n",
       "      <td>1</td>\n",
       "      <td>0</td>\n",
       "      <td>Brian Volk-Weiss</td>\n",
       "      <td>Comedy</td>\n",
       "      <td>United States</td>\n",
       "      <td>English</td>\n",
       "      <td>94.11062</td>\n",
       "      <td>Medium</td>\n",
       "    </tr>\n",
       "    <tr>\n",
       "      <th>2</th>\n",
       "      <td>15143</td>\n",
       "      <td>LoveSwag</td>\n",
       "      <td>2015</td>\n",
       "      <td>5.4</td>\n",
       "      <td>0</td>\n",
       "      <td>0</td>\n",
       "      <td>1</td>\n",
       "      <td>0</td>\n",
       "      <td>Austin Davoren</td>\n",
       "      <td>Short,Comedy,Drama,Romance</td>\n",
       "      <td>United States</td>\n",
       "      <td>English</td>\n",
       "      <td>2.00000</td>\n",
       "      <td>Medium</td>\n",
       "    </tr>\n",
       "  </tbody>\n",
       "</table>\n",
       "</div>"
      ],
      "text/plain": [
       "      ID            Title  Year  IMDb  Netflix  Hulu  Prime_Video  Disney+  \\\n",
       "1  10303  IMomSoHard Live  2019   5.2        0     0            1        0   \n",
       "2  15143         LoveSwag  2015   5.4        0     0            1        0   \n",
       "\n",
       "          Directors                      Genres        Country Language  \\\n",
       "1  Brian Volk-Weiss                      Comedy  United States  English   \n",
       "2    Austin Davoren  Short,Comedy,Drama,Romance  United States  English   \n",
       "\n",
       "   Runtime_in_Min IMDb_Rating_Category  \n",
       "1        94.11062               Medium  \n",
       "2         2.00000               Medium  "
      ]
     },
     "execution_count": 43,
     "metadata": {},
     "output_type": "execute_result"
    }
   ],
   "source": [
    "bins = [0, 3, 7, 10]\n",
    "labels = ['Low', 'Medium', 'High']\n",
    "movies['IMDb_Rating_Category'] = pd.cut(movies['IMDb'], bins=bins, labels=labels, right=True)\n",
    "movies.head(2)"
   ]
  },
  {
   "cell_type": "markdown",
   "id": "a830dcda-e547-4b25-8a9f-81424d35f1f1",
   "metadata": {},
   "source": [
    "##### Platform"
   ]
  },
  {
   "cell_type": "code",
   "execution_count": 74,
   "id": "ff669863-cfad-4cd3-8535-8f2176a4180f",
   "metadata": {},
   "outputs": [],
   "source": [
    "movies.loc[movies['Netflix'] == 1, 'Platform'] = \"Netflix\"\n",
    "movies.loc[movies['Hulu'] == 1, 'Platform'] = \"Hulu\"\n",
    "movies.loc[movies['Prime_Video'] == 1, 'Platform'] = \"Prime_Video\"\n",
    "movies.loc[movies['Disney+'] == 1, 'Platform'] = \"Disney+\""
   ]
  },
  {
   "cell_type": "markdown",
   "id": "e40a20da-5ecd-426e-b43e-0db8890385ab",
   "metadata": {},
   "source": [
    "##### A Table"
   ]
  },
  {
   "cell_type": "code",
   "execution_count": 151,
   "id": "d1ffd199-9ba9-4658-84e1-6688859e8114",
   "metadata": {},
   "outputs": [],
   "source": [
    "a=pd.concat([movies,genre_dummies], axis=1)"
   ]
  },
  {
   "cell_type": "markdown",
   "id": "d5fd5563-113a-4b6b-b147-ba2d76673bec",
   "metadata": {},
   "source": [
    "##### B Table"
   ]
  },
  {
   "cell_type": "code",
   "execution_count": 153,
   "id": "5c05a247-1e3c-4178-9477-44d722ac333e",
   "metadata": {},
   "outputs": [],
   "source": [
    "b= pd.concat([a[['IMDb']],genre_dummies], axis=1)"
   ]
  },
  {
   "cell_type": "markdown",
   "id": "09bd1379-9d5f-4f08-9405-42c6e2ed8209",
   "metadata": {},
   "source": [
    "##### Geners Table"
   ]
  },
  {
   "cell_type": "code",
   "execution_count": 85,
   "id": "334c083e-ca5f-49de-9d28-35498823c7be",
   "metadata": {},
   "outputs": [],
   "source": [
    "genre_dummies = movies['Genres'].str.get_dummies(sep=',')"
   ]
  },
  {
   "cell_type": "markdown",
   "id": "db56e951-aff9-4540-86cd-2e9d84bdeb15",
   "metadata": {},
   "source": [
    "##### Runtime_Category"
   ]
  },
  {
   "cell_type": "code",
   "execution_count": 134,
   "id": "ee088518-e1d3-411a-9a88-e4c1b5f0682a",
   "metadata": {},
   "outputs": [
    {
     "data": {
      "text/plain": [
       "Index(['ID', 'Title', 'Year', 'IMDb', 'Netflix', 'Hulu', 'Prime_Video',\n",
       "       'Disney+', 'Directors', 'Genres', 'Country', 'Language',\n",
       "       'Runtime_in_Min', 'IMDb_Rating_Category', 'Platform_Count', 'Platform',\n",
       "       'Runtime_Category'],\n",
       "      dtype='object')"
      ]
     },
     "execution_count": 134,
     "metadata": {},
     "output_type": "execute_result"
    }
   ],
   "source": [
    "movies.columns"
   ]
  },
  {
   "cell_type": "code",
   "execution_count": 149,
   "id": "af39be12-e8fd-46d2-b7a5-0a84f7c68aec",
   "metadata": {},
   "outputs": [],
   "source": [
    "def categorize_runtime(row):\n",
    "    if row['Runtime_in_Min'] < 60:\n",
    "        return 'Short'\n",
    "    elif 60 <= row['Runtime_in_Min'] < 120:\n",
    "        return 'Medium'\n",
    "    else:\n",
    "        return 'Long'\n",
    "\n",
    "movies['Runtime_Category'] = movies.apply(categorize_runtime, axis=1)\n"
   ]
  },
  {
   "cell_type": "markdown",
   "id": "12db1bb3-1ae0-4b2e-ba8c-369fa9b0d626",
   "metadata": {},
   "source": [
    "#### we have added the required columns in the table and also crreated the tables for language,directors ,country .refrence from Salim Amarti. \n",
    "#### Now We are ready for EDA process(Exploratory Data Analysis)"
   ]
  },
  {
   "cell_type": "markdown",
   "id": "a3140cc4-4e68-4e47-a3af-7b4e2c857c16",
   "metadata": {},
   "source": [
    "# ----------------------------------------------------------------------------------------"
   ]
  },
  {
   "cell_type": "markdown",
   "id": "5fecf652-ea9e-46dd-bdb3-fd36f1915847",
   "metadata": {},
   "source": [
    "## Data Analysis"
   ]
  },
  {
   "cell_type": "code",
   "execution_count": 91,
   "id": "6cd1425b-14f9-4214-950b-3e25f96b4bf9",
   "metadata": {},
   "outputs": [
    {
     "data": {
      "text/html": [
       "<div>\n",
       "<style scoped>\n",
       "    .dataframe tbody tr th:only-of-type {\n",
       "        vertical-align: middle;\n",
       "    }\n",
       "\n",
       "    .dataframe tbody tr th {\n",
       "        vertical-align: top;\n",
       "    }\n",
       "\n",
       "    .dataframe thead th {\n",
       "        text-align: right;\n",
       "    }\n",
       "</style>\n",
       "<table border=\"1\" class=\"dataframe\">\n",
       "  <thead>\n",
       "    <tr style=\"text-align: right;\">\n",
       "      <th></th>\n",
       "      <th>ID</th>\n",
       "      <th>Title</th>\n",
       "      <th>Year</th>\n",
       "      <th>IMDb</th>\n",
       "      <th>Netflix</th>\n",
       "      <th>Hulu</th>\n",
       "      <th>Prime_Video</th>\n",
       "      <th>Disney+</th>\n",
       "      <th>Directors</th>\n",
       "      <th>Genres</th>\n",
       "      <th>Country</th>\n",
       "      <th>Language</th>\n",
       "      <th>Runtime_in_Min</th>\n",
       "      <th>IMDb_Rating_Category</th>\n",
       "      <th>Platform_Count</th>\n",
       "      <th>Platform</th>\n",
       "      <th>Runtime_Category</th>\n",
       "    </tr>\n",
       "  </thead>\n",
       "  <tbody>\n",
       "    <tr>\n",
       "      <th>1</th>\n",
       "      <td>10303</td>\n",
       "      <td>IMomSoHard Live</td>\n",
       "      <td>2019</td>\n",
       "      <td>5.2</td>\n",
       "      <td>0</td>\n",
       "      <td>0</td>\n",
       "      <td>1</td>\n",
       "      <td>0</td>\n",
       "      <td>Brian Volk-Weiss</td>\n",
       "      <td>Comedy</td>\n",
       "      <td>United States</td>\n",
       "      <td>English</td>\n",
       "      <td>94.11062</td>\n",
       "      <td>Medium</td>\n",
       "      <td>1</td>\n",
       "      <td>Prime_Video</td>\n",
       "      <td>Medium</td>\n",
       "    </tr>\n",
       "    <tr>\n",
       "      <th>2</th>\n",
       "      <td>15143</td>\n",
       "      <td>LoveSwag</td>\n",
       "      <td>2015</td>\n",
       "      <td>5.4</td>\n",
       "      <td>0</td>\n",
       "      <td>0</td>\n",
       "      <td>1</td>\n",
       "      <td>0</td>\n",
       "      <td>Austin Davoren</td>\n",
       "      <td>Short,Comedy,Drama,Romance</td>\n",
       "      <td>United States</td>\n",
       "      <td>English</td>\n",
       "      <td>2.00000</td>\n",
       "      <td>Medium</td>\n",
       "      <td>1</td>\n",
       "      <td>Prime_Video</td>\n",
       "      <td>Short</td>\n",
       "    </tr>\n",
       "    <tr>\n",
       "      <th>3</th>\n",
       "      <td>3331</td>\n",
       "      <td>Rucker50</td>\n",
       "      <td>2016</td>\n",
       "      <td>5.3</td>\n",
       "      <td>1</td>\n",
       "      <td>0</td>\n",
       "      <td>0</td>\n",
       "      <td>0</td>\n",
       "      <td>Robert McCullough Jr.</td>\n",
       "      <td>Documentary</td>\n",
       "      <td>United States</td>\n",
       "      <td>English</td>\n",
       "      <td>56.00000</td>\n",
       "      <td>Medium</td>\n",
       "      <td>1</td>\n",
       "      <td>Netflix</td>\n",
       "      <td>Short</td>\n",
       "    </tr>\n",
       "    <tr>\n",
       "      <th>4</th>\n",
       "      <td>2798</td>\n",
       "      <td>Selfie</td>\n",
       "      <td>2014</td>\n",
       "      <td>6.1</td>\n",
       "      <td>1</td>\n",
       "      <td>0</td>\n",
       "      <td>0</td>\n",
       "      <td>0</td>\n",
       "      <td>Cristina Jacob</td>\n",
       "      <td>Comedy</td>\n",
       "      <td>Romania</td>\n",
       "      <td>Romanian</td>\n",
       "      <td>123.00000</td>\n",
       "      <td>Medium</td>\n",
       "      <td>1</td>\n",
       "      <td>Netflix</td>\n",
       "      <td>Long</td>\n",
       "    </tr>\n",
       "    <tr>\n",
       "      <th>5</th>\n",
       "      <td>2838</td>\n",
       "      <td>SquadGoals</td>\n",
       "      <td>2018</td>\n",
       "      <td>4.0</td>\n",
       "      <td>1</td>\n",
       "      <td>0</td>\n",
       "      <td>0</td>\n",
       "      <td>0</td>\n",
       "      <td>Danny J. Boyle</td>\n",
       "      <td>Drama,Thriller</td>\n",
       "      <td>United States</td>\n",
       "      <td>English</td>\n",
       "      <td>90.00000</td>\n",
       "      <td>Medium</td>\n",
       "      <td>1</td>\n",
       "      <td>Netflix</td>\n",
       "      <td>Medium</td>\n",
       "    </tr>\n",
       "  </tbody>\n",
       "</table>\n",
       "</div>"
      ],
      "text/plain": [
       "      ID            Title  Year  IMDb  Netflix  Hulu  Prime_Video  Disney+  \\\n",
       "1  10303  IMomSoHard Live  2019   5.2        0     0            1        0   \n",
       "2  15143         LoveSwag  2015   5.4        0     0            1        0   \n",
       "3   3331         Rucker50  2016   5.3        1     0            0        0   \n",
       "4   2798           Selfie  2014   6.1        1     0            0        0   \n",
       "5   2838       SquadGoals  2018   4.0        1     0            0        0   \n",
       "\n",
       "               Directors                      Genres        Country  Language  \\\n",
       "1       Brian Volk-Weiss                      Comedy  United States   English   \n",
       "2         Austin Davoren  Short,Comedy,Drama,Romance  United States   English   \n",
       "3  Robert McCullough Jr.                 Documentary  United States   English   \n",
       "4         Cristina Jacob                      Comedy        Romania  Romanian   \n",
       "5         Danny J. Boyle              Drama,Thriller  United States   English   \n",
       "\n",
       "   Runtime_in_Min IMDb_Rating_Category  Platform_Count     Platform  \\\n",
       "1        94.11062               Medium               1  Prime_Video   \n",
       "2         2.00000               Medium               1  Prime_Video   \n",
       "3        56.00000               Medium               1      Netflix   \n",
       "4       123.00000               Medium               1      Netflix   \n",
       "5        90.00000               Medium               1      Netflix   \n",
       "\n",
       "  Runtime_Category  \n",
       "1           Medium  \n",
       "2            Short  \n",
       "3            Short  \n",
       "4             Long  \n",
       "5           Medium  "
      ]
     },
     "execution_count": 91,
     "metadata": {},
     "output_type": "execute_result"
    }
   ],
   "source": [
    "movies.head()"
   ]
  },
  {
   "cell_type": "markdown",
   "id": "a87c5672-eace-4a5f-b270-f4cf6c9412b0",
   "metadata": {},
   "source": [
    "### Here are some questions for analysis.\n",
    "\n",
    "           Which OTT platform has the most movies?\n",
    "           Which OTT platform has the highest percentage of high-rated movies (IMDb ≥ 7)?\n",
    "           What is the average IMDb rating of movies exclusive to each OTT platform?\n",
    "           Which platform offers the most genre diversity in its catalog?\n",
    "           What is the top genre with the highest average rating across all platforms?\n",
    "           What is the genre with the highest average IMDb rating?\n",
    "           What is the top genre per platform?\n",
    "           What is the top genre per year?\n",
    "           What is the distribution of IMDb ratings for movies released in the last 5 years?\n",
    "           How does the average movie runtime vary across OTT platforms?\n",
    "           How old are the movies on OTT platforms on average (overall and split by platform)?\n",
    "           How does the average IMDb rating of movies differ between platforms for the same genres?\n",
    "           Which platform offers the most diverse selection of genres?\n"
   ]
  },
  {
   "cell_type": "markdown",
   "id": "0d4ff7a6-3967-434a-aee7-d223effe125e",
   "metadata": {},
   "source": [
    "### ---------------------------------------------------------------------------------------------------------------------------------"
   ]
  },
  {
   "cell_type": "markdown",
   "id": "fe3c0691-e999-40a8-9268-de3b74bdc9bf",
   "metadata": {},
   "source": [
    "#### Which OTT Platform Has the Most Movies?"
   ]
  },
  {
   "cell_type": "code",
   "execution_count": 95,
   "id": "19f625c5-59a4-43a4-97e8-cbb121d7cf79",
   "metadata": {},
   "outputs": [
    {
     "data": {
      "text/html": [
       "<div>\n",
       "<style scoped>\n",
       "    .dataframe tbody tr th:only-of-type {\n",
       "        vertical-align: middle;\n",
       "    }\n",
       "\n",
       "    .dataframe tbody tr th {\n",
       "        vertical-align: top;\n",
       "    }\n",
       "\n",
       "    .dataframe thead th {\n",
       "        text-align: right;\n",
       "    }\n",
       "</style>\n",
       "<table border=\"1\" class=\"dataframe\">\n",
       "  <thead>\n",
       "    <tr style=\"text-align: right;\">\n",
       "      <th></th>\n",
       "      <th>Name</th>\n",
       "      <th>Count</th>\n",
       "    </tr>\n",
       "  </thead>\n",
       "  <tbody>\n",
       "    <tr>\n",
       "      <th>0</th>\n",
       "      <td>Netflix</td>\n",
       "      <td>3394</td>\n",
       "    </tr>\n",
       "    <tr>\n",
       "      <th>1</th>\n",
       "      <td>Hulu</td>\n",
       "      <td>880</td>\n",
       "    </tr>\n",
       "    <tr>\n",
       "      <th>2</th>\n",
       "      <td>Prime_Video</td>\n",
       "      <td>11844</td>\n",
       "    </tr>\n",
       "    <tr>\n",
       "      <th>3</th>\n",
       "      <td>Disney+</td>\n",
       "      <td>569</td>\n",
       "    </tr>\n",
       "  </tbody>\n",
       "</table>\n",
       "</div>"
      ],
      "text/plain": [
       "          Name  Count\n",
       "0      Netflix   3394\n",
       "1         Hulu    880\n",
       "2  Prime_Video  11844\n",
       "3      Disney+    569"
      ]
     },
     "execution_count": 95,
     "metadata": {},
     "output_type": "execute_result"
    }
   ],
   "source": [
    "platform_counts = movies[['Netflix', 'Hulu', 'Prime_Video', 'Disney+']].sum()\n",
    "platform_count = pd.DataFrame(list(platform_counts.items()), columns=[\"Name\", \"Count\"])\n",
    "platform_count\n"
   ]
  },
  {
   "cell_type": "code",
   "execution_count": 97,
   "id": "7479f995-8a25-4d97-a512-46b4dcf57b18",
   "metadata": {},
   "outputs": [
    {
     "data": {
      "image/png": "[encoded data removed]",
      "text/plain": [
       "<Figure size 700x300 with 1 Axes>"
      ]
     },
     "metadata": {},
     "output_type": "display_data"
    }
   ],
   "source": [
    "x=platform_count[\"Name\"]\n",
    "y=platform_count[\"Count\"]\n",
    "plt.figure(figsize=(7, 3))\n",
    "plt.bar(x,y, color=['red', 'green', 'blue', 'purple'],label=y)\n",
    "plt.title(\"Movie Counts by OTT Platform\", fontsize=16,fontstyle=\"italic\")\n",
    "plt.xlabel(\"OTT Platform\", fontsize=14)\n",
    "plt.ylabel(\"Number of Movies\", fontsize=14)\n",
    "plt.xticks(fontsize=12)\n",
    "plt.yticks(fontsize=12)\n",
    "plt.legend()\n",
    "#plt.grid(axis='y', linestyle='--', alpha=0.7,color='b')\n",
    "plt.show()"
   ]
  },
  {
   "cell_type": "markdown",
   "id": "6a403797-76a3-489e-8c9c-edd1cba98aec",
   "metadata": {},
   "source": [
    "#####  conclusion:  Prime Video has the most content, followed by Netflix Hulu  and Disney+."
   ]
  },
  {
   "cell_type": "markdown",
   "id": "86d879ae-4b45-43e0-9f53-e0ce7c7d4f2b",
   "metadata": {},
   "source": [
    "### ---------------------------------------------------------------------------------------------------------------------------------"
   ]
  },
  {
   "cell_type": "markdown",
   "id": "951cb613-9e38-4ebd-b763-82ad0eb3e992",
   "metadata": {},
   "source": [
    "#### Which OTT platform has the highest percentage of high-rated movieson IMDb?"
   ]
  },
  {
   "cell_type": "code",
   "execution_count": 101,
   "id": "cdbd8de5-548c-43cf-b723-c13fe39180fd",
   "metadata": {},
   "outputs": [
    {
     "data": {
      "text/html": [
       "<div>\n",
       "<style scoped>\n",
       "    .dataframe tbody tr th:only-of-type {\n",
       "        vertical-align: middle;\n",
       "    }\n",
       "\n",
       "    .dataframe tbody tr th {\n",
       "        vertical-align: top;\n",
       "    }\n",
       "\n",
       "    .dataframe thead th {\n",
       "        text-align: right;\n",
       "    }\n",
       "</style>\n",
       "<table border=\"1\" class=\"dataframe\">\n",
       "  <thead>\n",
       "    <tr style=\"text-align: right;\">\n",
       "      <th></th>\n",
       "      <th>PName</th>\n",
       "      <th>HCount</th>\n",
       "    </tr>\n",
       "  </thead>\n",
       "  <tbody>\n",
       "    <tr>\n",
       "      <th>0</th>\n",
       "      <td>Netflix</td>\n",
       "      <td>30.82</td>\n",
       "    </tr>\n",
       "    <tr>\n",
       "      <th>1</th>\n",
       "      <td>Hulu</td>\n",
       "      <td>27.27</td>\n",
       "    </tr>\n",
       "    <tr>\n",
       "      <th>2</th>\n",
       "      <td>Prime_Video</td>\n",
       "      <td>22.88</td>\n",
       "    </tr>\n",
       "    <tr>\n",
       "      <th>3</th>\n",
       "      <td>Disney+</td>\n",
       "      <td>32.86</td>\n",
       "    </tr>\n",
       "  </tbody>\n",
       "</table>\n",
       "</div>"
      ],
      "text/plain": [
       "         PName  HCount\n",
       "0      Netflix   30.82\n",
       "1         Hulu   27.27\n",
       "2  Prime_Video   22.88\n",
       "3      Disney+   32.86"
      ]
     },
     "execution_count": 101,
     "metadata": {},
     "output_type": "execute_result"
    }
   ],
   "source": [
    "# Filter the dataset for movies with IMDb rating >= 7\n",
    "high_rated_movies = movies[movies['IMDb'] >= 7]\n",
    "\n",
    "# Count the number of high-rated movies for each platform\n",
    "high_rated_platform_counts = high_rated_movies[['Netflix', 'Hulu', 'Prime_Video', 'Disney+']].sum()\n",
    "\n",
    "# Count the total number of movies for each platform\n",
    "total_platform_counts = movies[['Netflix', 'Hulu', 'Prime_Video', 'Disney+']].sum()\n",
    "\n",
    "# Calculate the percentage of high-rated movies for each platform\n",
    "high_rated_percentage = (high_rated_platform_counts / total_platform_counts) * 100\n",
    "high_rated_percentage=pd.DataFrame(list(high_rated_percentage.items()), columns=[\"PName\", \"HCount\"])\n",
    "high_rated_percentage[\"HCount\"] = high_rated_percentage[\"HCount\"].round(2)\n",
    "high_rated_percentage"
   ]
  },
  {
   "cell_type": "code",
   "execution_count": 103,
   "id": "bf8ec912-abae-463e-b181-89681f9b2b77",
   "metadata": {},
   "outputs": [],
   "source": [
    "x=high_rated_percentage[\"PName\"]\n",
    "y=high_rated_percentage[\"HCount\"]"
   ]
  },
  {
   "cell_type": "code",
   "execution_count": 105,
   "id": "5f923a79-5ba3-4992-8305-4330da9ac014",
   "metadata": {},
   "outputs": [
    {
     "data": {
      "image/png": "[encoded data removed]",
      "text/plain": [
       "<Figure size 800x700 with 1 Axes>"
      ]
     },
     "metadata": {},
     "output_type": "display_data"
    }
   ],
   "source": [
    "colors = ['#FF6F61', '#6B8E23', '#20B2AA', '#8A2BE2']\n",
    "plt.figure(figsize=(8, 7))\n",
    "plt.pie(y, labels=x, colors=colors, autopct='%1.1f%%', startangle=140)\n",
    "plt.pie([1],radius=0.5,colors=\"k\")\n",
    "plt.title(\"Percentage of High-Rated Movies by OTT Platform\", fontsize=14)\n",
    "plt.legend()\n",
    "plt.show()"
   ]
  },
  {
   "cell_type": "markdown",
   "id": "cbc4d3ba-9bc3-40cb-b9d6-41cf0dfbc1cd",
   "metadata": {},
   "source": [
    "##### conclusion : Disney+ stands out as the platform with the highest proportion of high-rated movies, while Prime Video has the lowest percentage among the four platforms."
   ]
  },
  {
   "cell_type": "markdown",
   "id": "5593743e-9ac9-4142-aee4-320b7bc0e098",
   "metadata": {},
   "source": [
    "### ---------------------------------------------------------------------------------------------------------------------------------"
   ]
  },
  {
   "cell_type": "markdown",
   "id": "0c0bd4a1-3c31-4840-b613-1d3ee2d17201",
   "metadata": {},
   "source": [
    "#### What is the average IMDb rating of movies exclusive to each OTT platform?"
   ]
  },
  {
   "cell_type": "code",
   "execution_count": 109,
   "id": "63af7993-3a50-4d8c-ae1e-e40356be1854",
   "metadata": {},
   "outputs": [
    {
     "data": {
      "text/html": [
       "<div>\n",
       "<style scoped>\n",
       "    .dataframe tbody tr th:only-of-type {\n",
       "        vertical-align: middle;\n",
       "    }\n",
       "\n",
       "    .dataframe tbody tr th {\n",
       "        vertical-align: top;\n",
       "    }\n",
       "\n",
       "    .dataframe thead th {\n",
       "        text-align: right;\n",
       "    }\n",
       "</style>\n",
       "<table border=\"1\" class=\"dataframe\">\n",
       "  <thead>\n",
       "    <tr style=\"text-align: right;\">\n",
       "      <th></th>\n",
       "      <th>Platform</th>\n",
       "      <th>AVG_Rating</th>\n",
       "    </tr>\n",
       "  </thead>\n",
       "  <tbody>\n",
       "    <tr>\n",
       "      <th>0</th>\n",
       "      <td>Disney+</td>\n",
       "      <td>6.45</td>\n",
       "    </tr>\n",
       "    <tr>\n",
       "      <th>1</th>\n",
       "      <td>Hulu</td>\n",
       "      <td>6.20</td>\n",
       "    </tr>\n",
       "    <tr>\n",
       "      <th>2</th>\n",
       "      <td>Netflix</td>\n",
       "      <td>6.33</td>\n",
       "    </tr>\n",
       "    <tr>\n",
       "      <th>3</th>\n",
       "      <td>Prime_Video</td>\n",
       "      <td>5.84</td>\n",
       "    </tr>\n",
       "  </tbody>\n",
       "</table>\n",
       "</div>"
      ],
      "text/plain": [
       "      Platform  AVG_Rating\n",
       "0      Disney+        6.45\n",
       "1         Hulu        6.20\n",
       "2      Netflix        6.33\n",
       "3  Prime_Video        5.84"
      ]
     },
     "execution_count": 109,
     "metadata": {},
     "output_type": "execute_result"
    }
   ],
   "source": [
    "exclusive_movies = movies[movies.duplicated(subset='Title', keep=False) == False]\n",
    "#  Calculate the average IMDb rating of exclusive movies for each platfo\n",
    "avg_rating_per_platform = exclusive_movies.groupby('Platform')['IMDb'].mean()\n",
    "avg_rating_per_platform\n",
    "#pd.DataFrame(list(avg_rating_per_platform.items()),columns=[\"Platform\",\"AVG_Rating\"])\n",
    "avg_rating_per_platform = avg_rating_per_platform.reset_index()\n",
    "avg_rating_per_platform.columns = [\"Platform\", \"AVG_Rating\"]\n",
    "avg_rating_per_platform[\"AVG_Rating\"]=avg_rating_per_platform[\"AVG_Rating\"].round(2)\n",
    "avg_rating_per_platform"
   ]
  },
  {
   "cell_type": "code",
   "execution_count": 111,
   "id": "947c4e0e-febd-468c-bf26-5b38b06ce379",
   "metadata": {},
   "outputs": [
    {
     "name": "stderr",
     "output_type": "stream",
     "text": [
      "C:\\Users\\sachi\\AppData\\Local\\Temp\\ipykernel_13004\\4251123664.py:4: FutureWarning: \n",
      "\n",
      "Passing `palette` without assigning `hue` is deprecated and will be removed in v0.14.0. Assign the `y` variable to `hue` and set `legend=False` for the same effect.\n",
      "\n",
      "  sns.barplot(x=x, y=y, palette='viridis')\n"
     ]
    },
    {
     "data": {
      "image/png": "[encoded data removed]",
      "text/plain": [
       "<Figure size 800x500 with 1 Axes>"
      ]
     },
     "metadata": {},
     "output_type": "display_data"
    }
   ],
   "source": [
    "x=avg_rating_per_platform[\"AVG_Rating\"]\n",
    "y=avg_rating_per_platform[\"Platform\"]\n",
    "plt.figure(figsize=(8, 5))\n",
    "sns.barplot(x=x, y=y, palette='viridis')\n",
    "plt.legend(x)\n",
    "plt.title(\"Average IMDb Ratings of Exclusive Movies by Platform\", fontsize=16)\n",
    "plt.xlabel(\"Average IMDb Rating\", fontsize=14)\n",
    "plt.ylabel(\"Platform\", fontsize=14)\n",
    "plt.show()"
   ]
  },
  {
   "cell_type": "markdown",
   "id": "32854823-4186-4fc6-8d84-69220bd7b277",
   "metadata": {},
   "source": [
    "##### conclusion : Disney+ leads in the quality of exclusive movies (based on IMDb ratings), while Prime Video lags behind the other platforms."
   ]
  },
  {
   "cell_type": "markdown",
   "id": "61f1911e-16ff-4b17-9d6e-d72a9d9f6fb1",
   "metadata": {},
   "source": [
    "### ---------------------------------------------------------------------------------------------------------------------------------"
   ]
  },
  {
   "cell_type": "markdown",
   "id": "bba30cf8-bb58-4d0a-b8f0-d86ca4468595",
   "metadata": {},
   "source": [
    "#### Which platform offers the most genre diversity in its catalog?"
   ]
  },
  {
   "cell_type": "code",
   "execution_count": 117,
   "id": "12fa9082-fd56-4618-9672-161f14fa33b1",
   "metadata": {},
   "outputs": [
    {
     "data": {
      "text/html": [
       "<div>\n",
       "<style scoped>\n",
       "    .dataframe tbody tr th:only-of-type {\n",
       "        vertical-align: middle;\n",
       "    }\n",
       "\n",
       "    .dataframe tbody tr th {\n",
       "        vertical-align: top;\n",
       "    }\n",
       "\n",
       "    .dataframe thead th {\n",
       "        text-align: right;\n",
       "    }\n",
       "</style>\n",
       "<table border=\"1\" class=\"dataframe\">\n",
       "  <thead>\n",
       "    <tr style=\"text-align: right;\">\n",
       "      <th></th>\n",
       "      <th>Platform</th>\n",
       "      <th>Genre Diversity Count</th>\n",
       "    </tr>\n",
       "  </thead>\n",
       "  <tbody>\n",
       "    <tr>\n",
       "      <th>0</th>\n",
       "      <td>Disney+</td>\n",
       "      <td>30</td>\n",
       "    </tr>\n",
       "    <tr>\n",
       "      <th>1</th>\n",
       "      <td>Hulu</td>\n",
       "      <td>33</td>\n",
       "    </tr>\n",
       "    <tr>\n",
       "      <th>2</th>\n",
       "      <td>Netflix</td>\n",
       "      <td>38</td>\n",
       "    </tr>\n",
       "    <tr>\n",
       "      <th>3</th>\n",
       "      <td>Prime_Video</td>\n",
       "      <td>38</td>\n",
       "    </tr>\n",
       "  </tbody>\n",
       "</table>\n",
       "</div>"
      ],
      "text/plain": [
       "      Platform  Genre Diversity Count\n",
       "0      Disney+                     30\n",
       "1         Hulu                     33\n",
       "2      Netflix                     38\n",
       "3  Prime_Video                     38"
      ]
     },
     "execution_count": 117,
     "metadata": {},
     "output_type": "execute_result"
    }
   ],
   "source": [
    "# Combine the platform information with the genre binary table\n",
    "platform_genre_diversity = pd.concat([movies['Platform'], genre_dummies], axis=1)\n",
    "\n",
    "# Group by platform and sum the binary genre columns to get genre counts per platform\n",
    "genre_diversity = platform_genre_diversity.groupby('Platform').sum().gt(0).sum(axis=1)\n",
    "\n",
    "diversity_df = genre_diversity.reset_index()\n",
    "diversity_df.columns = ['Platform', 'Genre Diversity Count']\n",
    "diversity_df"
   ]
  },
  {
   "cell_type": "markdown",
   "id": "046740a1-1072-4905-af18-1db26ca235cf",
   "metadata": {},
   "source": [
    "##### conclusion : This suggests that Prime Video and Netflix provide the most varied content in terms of genre selection, while Disney+ offers a more focused catalog, potentially specializing in certain genres like family-friendly content and franchises."
   ]
  },
  {
   "cell_type": "markdown",
   "id": "9be41337-7aa9-4f44-b12e-bf6ed457992e",
   "metadata": {},
   "source": [
    "### ---------------------------------------------------------------------------------------------------------------------------------"
   ]
  },
  {
   "cell_type": "markdown",
   "id": "537b9777-9d6a-4dab-82e7-170dd4ec9539",
   "metadata": {},
   "source": [
    "#### What is the top genre with the highest average rating across all platforms?\n",
    "#### What is the genre with the highest average IMDb rating?"
   ]
  },
  {
   "cell_type": "code",
   "execution_count": 121,
   "id": "e698f4b6-af1d-4540-b4b2-c10f13f1eaf2",
   "metadata": {},
   "outputs": [
    {
     "data": {
      "text/plain": [
       "Game-Show      8.200000\n",
       " War           7.800000\n",
       " History       7.700000\n",
       " Action        7.550000\n",
       " Sport         7.400000\n",
       "News           7.269000\n",
       " Comedy        7.233333\n",
       " Adventure     7.150000\n",
       " Crime         7.080000\n",
       "Documentary    7.074602\n",
       " Fantasy       6.920000\n",
       "Biography      6.860837\n",
       " Drama         6.847368\n",
       "History        6.808987\n",
       " Music         6.800000\n",
       " Sci-Fi        6.785714\n",
       " Mystery       6.766667\n",
       "Short          6.766201\n",
       "Music          6.637888\n",
       " Western       6.600000\n",
       " Family        6.600000\n",
       " Thriller      6.554545\n",
       " Horror        6.533333\n",
       "Sport          6.493199\n",
       "Reality-TV     6.433333\n",
       " Romance       6.400000\n",
       "Animation      6.369514\n",
       "Film-Noir      6.332911\n",
       "War            6.309696\n",
       "Musical        6.263636\n",
       "Drama          6.122355\n",
       "Family         6.094959\n",
       "Romance        6.076793\n",
       "Comedy         5.937740\n",
       "Western        5.933740\n",
       "Crime          5.911692\n",
       "Fantasy        5.717433\n",
       "Mystery        5.689565\n",
       "Adventure      5.648966\n",
       "Talk-Show      5.560000\n",
       "Action         5.492296\n",
       "Thriller       5.385033\n",
       "Sci-Fi         4.973869\n",
       "Horror         4.736072\n",
       "dtype: float64"
      ]
     },
     "execution_count": 121,
     "metadata": {},
     "output_type": "execute_result"
    }
   ],
   "source": [
    "\n",
    "b['IMDb'] = pd.to_numeric(b['IMDb'], errors='coerce')\n",
    "genre_columns = b.columns[1:]  # All columns except the first 'IMDb' column\n",
    "b[genre_columns] = b[genre_columns].apply(pd.to_numeric, errors='coerce')\n",
    "\n",
    "# Replace NaN or infinite values with 0, then convert to integer\n",
    "b[genre_columns] = b[genre_columns].replace([np.inf, -np.inf], np.nan).fillna(0).astype(int)\n",
    "\n",
    "# Calculate the average IMDb rating for each individual genre\n",
    "avg_genre_ratings = b[genre_columns].multiply(b['IMDb'], axis=0).sum() / b[genre_columns].sum()\n",
    "\n",
    "pd.DataFrame(list(avg_genre_ratings.items()),columns=[\"Genres\",\"Rating\"]).head() \n",
    "avg_genre_ratings.sort_values(ascending=False)\n",
    "#pd.DataFrame(avg_genre_ratings)"
   ]
  },
  {
   "cell_type": "code",
   "execution_count": 123,
   "id": "20ea280d-20b8-41c3-be20-47a8e04ae0ec",
   "metadata": {},
   "outputs": [
    {
     "data": {
      "image/png": "[encoded data removed]",
      "text/plain": [
       "<Figure size 1000x600 with 1 Axes>"
      ]
     },
     "metadata": {},
     "output_type": "display_data"
    }
   ],
   "source": [
    "x=avg_genre_ratings.index\n",
    "y=avg_genre_ratings.values\n",
    "plt.figure(figsize=(10, 6))\n",
    "plt.bar(x,y, color='skyblue')\n",
    "plt.xticks(rotation=90)\n",
    "plt.title('Genres vs Ratings')\n",
    "plt.xlabel('Genres')\n",
    "plt.ylabel('Ratings')\n",
    "plt.tight_layout()\n",
    "plt.show()"
   ]
  },
  {
   "cell_type": "markdown",
   "id": "099e88fb-ea8b-4812-a85e-413080e333fb",
   "metadata": {},
   "source": [
    "##### conclusion : Game-shows has highest rating followed by history and all"
   ]
  },
  {
   "cell_type": "markdown",
   "id": "c3e510c7-6396-4391-bf82-346d9c962e75",
   "metadata": {},
   "source": [
    "### ---------------------------------------------------------------------------------------------------------------------------------"
   ]
  },
  {
   "cell_type": "markdown",
   "id": "7446d00d-e221-439b-a552-3dd7004cabfe",
   "metadata": {},
   "source": [
    "#### What is the top genre per platform?"
   ]
  },
  {
   "cell_type": "code",
   "execution_count": 169,
   "id": "7e47a8a5-5a94-4230-a27d-23b9c3298a42",
   "metadata": {},
   "outputs": [
    {
     "data": {
      "text/html": [
       "<div>\n",
       "<style scoped>\n",
       "    .dataframe tbody tr th:only-of-type {\n",
       "        vertical-align: middle;\n",
       "    }\n",
       "\n",
       "    .dataframe tbody tr th {\n",
       "        vertical-align: top;\n",
       "    }\n",
       "\n",
       "    .dataframe thead th {\n",
       "        text-align: right;\n",
       "    }\n",
       "</style>\n",
       "<table border=\"1\" class=\"dataframe\">\n",
       "  <thead>\n",
       "    <tr style=\"text-align: right;\">\n",
       "      <th></th>\n",
       "      <th>Name</th>\n",
       "      <th>Count</th>\n",
       "    </tr>\n",
       "  </thead>\n",
       "  <tbody>\n",
       "    <tr>\n",
       "      <th>24</th>\n",
       "      <td>Drama</td>\n",
       "      <td>1479</td>\n",
       "    </tr>\n",
       "    <tr>\n",
       "      <th>21</th>\n",
       "      <td>Comedy</td>\n",
       "      <td>1277</td>\n",
       "    </tr>\n",
       "    <tr>\n",
       "      <th>41</th>\n",
       "      <td>Thriller</td>\n",
       "      <td>641</td>\n",
       "    </tr>\n",
       "    <tr>\n",
       "      <th>36</th>\n",
       "      <td>Romance</td>\n",
       "      <td>543</td>\n",
       "    </tr>\n",
       "    <tr>\n",
       "      <th>17</th>\n",
       "      <td>Action</td>\n",
       "      <td>542</td>\n",
       "    </tr>\n",
       "  </tbody>\n",
       "</table>\n",
       "</div>"
      ],
      "text/plain": [
       "        Name  Count\n",
       "24     Drama   1479\n",
       "21    Comedy   1277\n",
       "41  Thriller    641\n",
       "36   Romance    543\n",
       "17    Action    542"
      ]
     },
     "execution_count": 169,
     "metadata": {},
     "output_type": "execute_result"
    }
   ],
   "source": [
    "Netflix_Gener= a.drop(['IMDb','Hulu','Prime_Video','Disney+','ID','Title','Directors','Runtime_in_Min','Runtime_Category',\n",
    "                     'Genres', 'Country', 'Language','IMDb_Rating_Category',\n",
    "                     'Platform_Count', 'Platform', 'Year'], axis=1).groupby(['Netflix']).sum().iloc[1]\n",
    "Netflix_Gener=pd.DataFrame(list(Netflix_Gener.items()),columns=[\"Name\",\"Count\"])\n",
    "Netflix_Gener= Netflix_Gener.sort_values(by=\"Count\", ascending=False)\n",
    "Netflix_Gener.head()\n"
   ]
  },
  {
   "cell_type": "code",
   "execution_count": 171,
   "id": "6944b9af-0761-4ef0-8100-f96a923dad78",
   "metadata": {},
   "outputs": [
    {
     "name": "stderr",
     "output_type": "stream",
     "text": [
      "C:\\Users\\sachi\\AppData\\Local\\Temp\\ipykernel_13004\\231999961.py:2: FutureWarning: \n",
      "\n",
      "Passing `palette` without assigning `hue` is deprecated and will be removed in v0.14.0. Assign the `y` variable to `hue` and set `legend=False` for the same effect.\n",
      "\n",
      "  sns.barplot(x=Netflix_Gener[\"Count\"],y=Netflix_Gener[\"Name\"],data=Netflix_Gener,palette='CMRmap',orient=\"h\")\n"
     ]
    },
    {
     "data": {
      "text/plain": [
       "<Axes: xlabel='Count', ylabel='Name'>"
      ]
     },
     "execution_count": 171,
     "metadata": {},
     "output_type": "execute_result"
    },
    {
     "data": {
      "image/png": "[encoded data removed]",
      "text/plain": [
       "<Figure size 640x480 with 1 Axes>"
      ]
     },
     "metadata": {},
     "output_type": "display_data"
    }
   ],
   "source": [
    "Netflix_Gener= Netflix_Gener.nlargest(30, 'Count')\n",
    "sns.barplot(x=Netflix_Gener[\"Count\"],y=Netflix_Gener[\"Name\"],data=Netflix_Gener,palette='CMRmap',orient=\"h\")"
   ]
  },
  {
   "cell_type": "code",
   "execution_count": 175,
   "id": "6fce9dd6-2a7e-4951-a79f-22e0e09df199",
   "metadata": {},
   "outputs": [
    {
     "data": {
      "text/html": [
       "<div>\n",
       "<style scoped>\n",
       "    .dataframe tbody tr th:only-of-type {\n",
       "        vertical-align: middle;\n",
       "    }\n",
       "\n",
       "    .dataframe tbody tr th {\n",
       "        vertical-align: top;\n",
       "    }\n",
       "\n",
       "    .dataframe thead th {\n",
       "        text-align: right;\n",
       "    }\n",
       "</style>\n",
       "<table border=\"1\" class=\"dataframe\">\n",
       "  <thead>\n",
       "    <tr style=\"text-align: right;\">\n",
       "      <th></th>\n",
       "      <th>Name</th>\n",
       "      <th>Count</th>\n",
       "    </tr>\n",
       "  </thead>\n",
       "  <tbody>\n",
       "    <tr>\n",
       "      <th>24</th>\n",
       "      <td>Drama</td>\n",
       "      <td>428</td>\n",
       "    </tr>\n",
       "    <tr>\n",
       "      <th>21</th>\n",
       "      <td>Comedy</td>\n",
       "      <td>271</td>\n",
       "    </tr>\n",
       "    <tr>\n",
       "      <th>41</th>\n",
       "      <td>Thriller</td>\n",
       "      <td>218</td>\n",
       "    </tr>\n",
       "    <tr>\n",
       "      <th>36</th>\n",
       "      <td>Romance</td>\n",
       "      <td>148</td>\n",
       "    </tr>\n",
       "    <tr>\n",
       "      <th>23</th>\n",
       "      <td>Documentary</td>\n",
       "      <td>129</td>\n",
       "    </tr>\n",
       "  </tbody>\n",
       "</table>\n",
       "</div>"
      ],
      "text/plain": [
       "           Name  Count\n",
       "24        Drama    428\n",
       "21       Comedy    271\n",
       "41     Thriller    218\n",
       "36      Romance    148\n",
       "23  Documentary    129"
      ]
     },
     "execution_count": 175,
     "metadata": {},
     "output_type": "execute_result"
    }
   ],
   "source": [
    "HuluGeners= a.drop(['IMDb','Netflix','Prime_Video','Disney+','ID','Title','Directors','Genres','Country','Language','Runtime_in_Min','IMDb_Rating_Category','Platform_Count','Platform','Runtime_Category','Year'],axis=1).groupby(['Hulu']).sum().iloc[1]\n",
    "HuluGeners=pd.DataFrame(list(HuluGeners.items()),columns=[\"Name\",\"Count\"])\n",
    "HuluGeners= HuluGeners.sort_values(by=\"Count\", ascending=False)\n",
    "HuluGeners.head()"
   ]
  },
  {
   "cell_type": "code",
   "execution_count": 177,
   "id": "42284045-8da2-4345-924a-868d3b650aeb",
   "metadata": {},
   "outputs": [
    {
     "name": "stderr",
     "output_type": "stream",
     "text": [
      "C:\\Users\\sachi\\AppData\\Local\\Temp\\ipykernel_13004\\118247866.py:2: FutureWarning: \n",
      "\n",
      "Passing `palette` without assigning `hue` is deprecated and will be removed in v0.14.0. Assign the `y` variable to `hue` and set `legend=False` for the same effect.\n",
      "\n",
      "  sns.barplot(x=HuluGeners[\"Count\"],y=HuluGeners[\"Name\"],data=HuluGeners,palette='CMRmap',orient=\"h\")\n"
     ]
    },
    {
     "data": {
      "text/plain": [
       "<Axes: xlabel='Count', ylabel='Name'>"
      ]
     },
     "execution_count": 177,
     "metadata": {},
     "output_type": "execute_result"
    },
    {
     "data": {
      "image/png": "[encoded data removed]",
      "text/plain": [
       "<Figure size 640x480 with 1 Axes>"
      ]
     },
     "metadata": {},
     "output_type": "display_data"
    }
   ],
   "source": [
    "HuluGeners= HuluGeners.nlargest(20, 'Count')\n",
    "sns.barplot(x=HuluGeners[\"Count\"],y=HuluGeners[\"Name\"],data=HuluGeners,palette='CMRmap',orient=\"h\")"
   ]
  },
  {
   "cell_type": "code",
   "execution_count": 179,
   "id": "3fcdb60b-1e3e-467b-b9bc-56e44199557f",
   "metadata": {},
   "outputs": [
    {
     "data": {
      "text/html": [
       "<div>\n",
       "<style scoped>\n",
       "    .dataframe tbody tr th:only-of-type {\n",
       "        vertical-align: middle;\n",
       "    }\n",
       "\n",
       "    .dataframe tbody tr th {\n",
       "        vertical-align: top;\n",
       "    }\n",
       "\n",
       "    .dataframe thead th {\n",
       "        text-align: right;\n",
       "    }\n",
       "</style>\n",
       "<table border=\"1\" class=\"dataframe\">\n",
       "  <thead>\n",
       "    <tr style=\"text-align: right;\">\n",
       "      <th></th>\n",
       "      <th>Name</th>\n",
       "      <th>Count</th>\n",
       "    </tr>\n",
       "  </thead>\n",
       "  <tbody>\n",
       "    <tr>\n",
       "      <th>24</th>\n",
       "      <td>Drama</td>\n",
       "      <td>5320</td>\n",
       "    </tr>\n",
       "    <tr>\n",
       "      <th>21</th>\n",
       "      <td>Comedy</td>\n",
       "      <td>2918</td>\n",
       "    </tr>\n",
       "    <tr>\n",
       "      <th>41</th>\n",
       "      <td>Thriller</td>\n",
       "      <td>2580</td>\n",
       "    </tr>\n",
       "    <tr>\n",
       "      <th>17</th>\n",
       "      <td>Action</td>\n",
       "      <td>2022</td>\n",
       "    </tr>\n",
       "    <tr>\n",
       "      <th>30</th>\n",
       "      <td>Horror</td>\n",
       "      <td>1857</td>\n",
       "    </tr>\n",
       "  </tbody>\n",
       "</table>\n",
       "</div>"
      ],
      "text/plain": [
       "        Name  Count\n",
       "24     Drama   5320\n",
       "21    Comedy   2918\n",
       "41  Thriller   2580\n",
       "17    Action   2022\n",
       "30    Horror   1857"
      ]
     },
     "execution_count": 179,
     "metadata": {},
     "output_type": "execute_result"
    }
   ],
   "source": [
    "prime_VideoGenres = a.drop(['IMDb','Hulu', 'Netflix', 'Disney+','ID','Title','Directors','Genres','Country', 'Language',\n",
    "       'Runtime_in_Min', 'IMDb_Rating_Category', 'Platform_Count', 'Platform',\n",
    "       'Runtime_Category','Year',],axis=1).groupby(['Prime_Video']).sum().iloc[1]\n",
    "prime_VideoGenres=pd.DataFrame(list(prime_VideoGenres.items()),columns=[\"Name\",\"Count\"])\n",
    "prime_VideoGenres= prime_VideoGenres.sort_values(by=\"Count\", ascending=False)\n",
    "prime_VideoGenres.head()"
   ]
  },
  {
   "cell_type": "code",
   "execution_count": 181,
   "id": "5b75c77f-7b6b-445b-91f4-a4376a3bbc1c",
   "metadata": {},
   "outputs": [
    {
     "name": "stderr",
     "output_type": "stream",
     "text": [
      "C:\\Users\\sachi\\AppData\\Local\\Temp\\ipykernel_13004\\497272974.py:2: FutureWarning: \n",
      "\n",
      "Passing `palette` without assigning `hue` is deprecated and will be removed in v0.14.0. Assign the `y` variable to `hue` and set `legend=False` for the same effect.\n",
      "\n",
      "  sns.barplot(x=prime_VideoGenres[\"Count\"],y=prime_VideoGenres[\"Name\"],data=prime_VideoGenres,palette='CMRmap',orient=\"h\")\n"
     ]
    },
    {
     "data": {
      "text/plain": [
       "<Axes: xlabel='Count', ylabel='Name'>"
      ]
     },
     "execution_count": 181,
     "metadata": {},
     "output_type": "execute_result"
    },
    {
     "data": {
      "image/png": "[encoded data removed]",
      "text/plain": [
       "<Figure size 640x480 with 1 Axes>"
      ]
     },
     "metadata": {},
     "output_type": "display_data"
    }
   ],
   "source": [
    "prime_VideoGenres= prime_VideoGenres.nlargest(20, 'Count')\n",
    "sns.barplot(x=prime_VideoGenres[\"Count\"],y=prime_VideoGenres[\"Name\"],data=prime_VideoGenres,palette='CMRmap',orient=\"h\")"
   ]
  },
  {
   "cell_type": "code",
   "execution_count": 183,
   "id": "664360ad-16d1-47f8-9dca-bdda70854b97",
   "metadata": {},
   "outputs": [
    {
     "data": {
      "text/html": [
       "<div>\n",
       "<style scoped>\n",
       "    .dataframe tbody tr th:only-of-type {\n",
       "        vertical-align: middle;\n",
       "    }\n",
       "\n",
       "    .dataframe tbody tr th {\n",
       "        vertical-align: top;\n",
       "    }\n",
       "\n",
       "    .dataframe thead th {\n",
       "        text-align: right;\n",
       "    }\n",
       "</style>\n",
       "<table border=\"1\" class=\"dataframe\">\n",
       "  <thead>\n",
       "    <tr style=\"text-align: right;\">\n",
       "      <th></th>\n",
       "      <th>Name</th>\n",
       "      <th>Count</th>\n",
       "    </tr>\n",
       "  </thead>\n",
       "  <tbody>\n",
       "    <tr>\n",
       "      <th>25</th>\n",
       "      <td>Family</td>\n",
       "      <td>428</td>\n",
       "    </tr>\n",
       "    <tr>\n",
       "      <th>21</th>\n",
       "      <td>Comedy</td>\n",
       "      <td>281</td>\n",
       "    </tr>\n",
       "    <tr>\n",
       "      <th>18</th>\n",
       "      <td>Adventure</td>\n",
       "      <td>255</td>\n",
       "    </tr>\n",
       "    <tr>\n",
       "      <th>26</th>\n",
       "      <td>Fantasy</td>\n",
       "      <td>173</td>\n",
       "    </tr>\n",
       "    <tr>\n",
       "      <th>24</th>\n",
       "      <td>Drama</td>\n",
       "      <td>160</td>\n",
       "    </tr>\n",
       "  </tbody>\n",
       "</table>\n",
       "</div>"
      ],
      "text/plain": [
       "         Name  Count\n",
       "25     Family    428\n",
       "21     Comedy    281\n",
       "18  Adventure    255\n",
       "26    Fantasy    173\n",
       "24      Drama    160"
      ]
     },
     "execution_count": 183,
     "metadata": {},
     "output_type": "execute_result"
    }
   ],
   "source": [
    "DisneyGenres= a.drop(['IMDb','Hulu','Netflix','Prime_Video','ID','Title','Directors','Genres','Country','Language',\n",
    "       'Runtime_in_Min','IMDb_Rating_Category','Platform_Count','Platform',\n",
    "       'Runtime_Category','Year'],axis=1).groupby(['Disney+']).sum().iloc[1]\n",
    "DisneyGenres=pd.DataFrame(list(DisneyGenres.items()),columns=[\"Name\",\"Count\"])\n",
    "DisneyGenres= DisneyGenres.sort_values(by=\"Count\", ascending=False)\n",
    "DisneyGenres.head()"
   ]
  },
  {
   "cell_type": "code",
   "execution_count": 185,
   "id": "6e0403d5-19c7-45a4-b262-d442f71d2f0e",
   "metadata": {},
   "outputs": [
    {
     "name": "stderr",
     "output_type": "stream",
     "text": [
      "C:\\Users\\sachi\\AppData\\Local\\Temp\\ipykernel_13004\\1435218712.py:2: FutureWarning: \n",
      "\n",
      "Passing `palette` without assigning `hue` is deprecated and will be removed in v0.14.0. Assign the `y` variable to `hue` and set `legend=False` for the same effect.\n",
      "\n",
      "  sns.barplot(x=DisneyGenres[\"Count\"],y=DisneyGenres[\"Name\"],data=DisneyGenres,palette='CMRmap',orient=\"h\")\n"
     ]
    },
    {
     "data": {
      "text/plain": [
       "<Axes: xlabel='Count', ylabel='Name'>"
      ]
     },
     "execution_count": 185,
     "metadata": {},
     "output_type": "execute_result"
    },
    {
     "data": {
      "image/png": "[encoded data removed]",
      "text/plain": [
       "<Figure size 640x480 with 1 Axes>"
      ]
     },
     "metadata": {},
     "output_type": "display_data"
    }
   ],
   "source": [
    "DisneyGenres= DisneyGenres.nlargest(20, 'Count')\n",
    "sns.barplot(x=DisneyGenres[\"Count\"],y=DisneyGenres[\"Name\"],data=DisneyGenres,palette='CMRmap',orient=\"h\")"
   ]
  },
  {
   "cell_type": "markdown",
   "id": "3006e7dc-a804-46c5-912b-6edbfc8cbbfa",
   "metadata": {},
   "source": [
    "##### conclusion: Disney+ has highest number of moveies on Family Geners followed by comedy and Adventure where ass other platform has Drama  as a hiighest geners followed by comedy and thrill."
   ]
  },
  {
   "cell_type": "markdown",
   "id": "725eb098-bae5-4a98-bea4-2307469b1e24",
   "metadata": {},
   "source": [
    "### ---------------------------------------------------------------------------------------------------------------------------------"
   ]
  },
  {
   "cell_type": "markdown",
   "id": "5449adf8-5e68-4533-a2fa-94518ffd5dd9",
   "metadata": {},
   "source": [
    "#### What is the top genre per year?"
   ]
  },
  {
   "cell_type": "code",
   "execution_count": 192,
   "id": "8be1a961-bde1-410a-8044-fd98e4a932b0",
   "metadata": {},
   "outputs": [
    {
     "data": {
      "text/html": [
       "<div>\n",
       "<style scoped>\n",
       "    .dataframe tbody tr th:only-of-type {\n",
       "        vertical-align: middle;\n",
       "    }\n",
       "\n",
       "    .dataframe tbody tr th {\n",
       "        vertical-align: top;\n",
       "    }\n",
       "\n",
       "    .dataframe thead th {\n",
       "        text-align: right;\n",
       "    }\n",
       "</style>\n",
       "<table border=\"1\" class=\"dataframe\">\n",
       "  <thead>\n",
       "    <tr style=\"text-align: right;\">\n",
       "      <th></th>\n",
       "      <th></th>\n",
       "      <th>Netflix</th>\n",
       "      <th>Hulu</th>\n",
       "      <th>Prime_Video</th>\n",
       "      <th>Disney+</th>\n",
       "      <th>Count</th>\n",
       "    </tr>\n",
       "    <tr>\n",
       "      <th>Year</th>\n",
       "      <th>Genres_List</th>\n",
       "      <th></th>\n",
       "      <th></th>\n",
       "      <th></th>\n",
       "      <th></th>\n",
       "      <th></th>\n",
       "    </tr>\n",
       "  </thead>\n",
       "  <tbody>\n",
       "    <tr>\n",
       "      <th rowspan=\"6\" valign=\"top\">1902</th>\n",
       "      <th>Action</th>\n",
       "      <td>0</td>\n",
       "      <td>0</td>\n",
       "      <td>1</td>\n",
       "      <td>0</td>\n",
       "      <td>1</td>\n",
       "    </tr>\n",
       "    <tr>\n",
       "      <th>Adventure</th>\n",
       "      <td>0</td>\n",
       "      <td>0</td>\n",
       "      <td>1</td>\n",
       "      <td>0</td>\n",
       "      <td>1</td>\n",
       "    </tr>\n",
       "    <tr>\n",
       "      <th>Comedy</th>\n",
       "      <td>0</td>\n",
       "      <td>0</td>\n",
       "      <td>1</td>\n",
       "      <td>0</td>\n",
       "      <td>1</td>\n",
       "    </tr>\n",
       "    <tr>\n",
       "      <th>Fantasy</th>\n",
       "      <td>0</td>\n",
       "      <td>0</td>\n",
       "      <td>1</td>\n",
       "      <td>0</td>\n",
       "      <td>1</td>\n",
       "    </tr>\n",
       "    <tr>\n",
       "      <th>Sci-Fi</th>\n",
       "      <td>0</td>\n",
       "      <td>0</td>\n",
       "      <td>1</td>\n",
       "      <td>0</td>\n",
       "      <td>1</td>\n",
       "    </tr>\n",
       "    <tr>\n",
       "      <th>Short</th>\n",
       "      <td>0</td>\n",
       "      <td>0</td>\n",
       "      <td>1</td>\n",
       "      <td>0</td>\n",
       "      <td>1</td>\n",
       "    </tr>\n",
       "    <tr>\n",
       "      <th rowspan=\"2\" valign=\"top\">1912</th>\n",
       "      <th>Biography</th>\n",
       "      <td>0</td>\n",
       "      <td>0</td>\n",
       "      <td>1</td>\n",
       "      <td>0</td>\n",
       "      <td>1</td>\n",
       "    </tr>\n",
       "    <tr>\n",
       "      <th>Drama</th>\n",
       "      <td>0</td>\n",
       "      <td>0</td>\n",
       "      <td>1</td>\n",
       "      <td>0</td>\n",
       "      <td>1</td>\n",
       "    </tr>\n",
       "    <tr>\n",
       "      <th rowspan=\"3\" valign=\"top\">1913</th>\n",
       "      <th>Comedy</th>\n",
       "      <td>0</td>\n",
       "      <td>0</td>\n",
       "      <td>1</td>\n",
       "      <td>0</td>\n",
       "      <td>2</td>\n",
       "    </tr>\n",
       "    <tr>\n",
       "      <th>Short</th>\n",
       "      <td>0</td>\n",
       "      <td>0</td>\n",
       "      <td>1</td>\n",
       "      <td>0</td>\n",
       "      <td>2</td>\n",
       "    </tr>\n",
       "    <tr>\n",
       "      <th>Action</th>\n",
       "      <td>0</td>\n",
       "      <td>0</td>\n",
       "      <td>1</td>\n",
       "      <td>0</td>\n",
       "      <td>1</td>\n",
       "    </tr>\n",
       "    <tr>\n",
       "      <th rowspan=\"5\" valign=\"top\">1915</th>\n",
       "      <th>Comedy</th>\n",
       "      <td>0</td>\n",
       "      <td>0</td>\n",
       "      <td>1</td>\n",
       "      <td>0</td>\n",
       "      <td>2</td>\n",
       "    </tr>\n",
       "    <tr>\n",
       "      <th>Drama</th>\n",
       "      <td>0</td>\n",
       "      <td>0</td>\n",
       "      <td>1</td>\n",
       "      <td>0</td>\n",
       "      <td>2</td>\n",
       "    </tr>\n",
       "    <tr>\n",
       "      <th>Short</th>\n",
       "      <td>0</td>\n",
       "      <td>0</td>\n",
       "      <td>1</td>\n",
       "      <td>0</td>\n",
       "      <td>2</td>\n",
       "    </tr>\n",
       "    <tr>\n",
       "      <th>History</th>\n",
       "      <td>0</td>\n",
       "      <td>0</td>\n",
       "      <td>1</td>\n",
       "      <td>0</td>\n",
       "      <td>1</td>\n",
       "    </tr>\n",
       "    <tr>\n",
       "      <th>War</th>\n",
       "      <td>0</td>\n",
       "      <td>0</td>\n",
       "      <td>1</td>\n",
       "      <td>0</td>\n",
       "      <td>1</td>\n",
       "    </tr>\n",
       "    <tr>\n",
       "      <th rowspan=\"2\" valign=\"top\">1916</th>\n",
       "      <th>Drama</th>\n",
       "      <td>0</td>\n",
       "      <td>0</td>\n",
       "      <td>1</td>\n",
       "      <td>0</td>\n",
       "      <td>1</td>\n",
       "    </tr>\n",
       "    <tr>\n",
       "      <th>History</th>\n",
       "      <td>0</td>\n",
       "      <td>0</td>\n",
       "      <td>1</td>\n",
       "      <td>0</td>\n",
       "      <td>1</td>\n",
       "    </tr>\n",
       "    <tr>\n",
       "      <th rowspan=\"2\" valign=\"top\">1917</th>\n",
       "      <th>Adventure</th>\n",
       "      <td>0</td>\n",
       "      <td>0</td>\n",
       "      <td>1</td>\n",
       "      <td>0</td>\n",
       "      <td>1</td>\n",
       "    </tr>\n",
       "    <tr>\n",
       "      <th>Comedy</th>\n",
       "      <td>0</td>\n",
       "      <td>0</td>\n",
       "      <td>1</td>\n",
       "      <td>0</td>\n",
       "      <td>1</td>\n",
       "    </tr>\n",
       "  </tbody>\n",
       "</table>\n",
       "</div>"
      ],
      "text/plain": [
       "                  Netflix  Hulu  Prime_Video  Disney+  Count\n",
       "Year Genres_List                                            \n",
       "1902 Action             0     0            1        0      1\n",
       "     Adventure          0     0            1        0      1\n",
       "     Comedy             0     0            1        0      1\n",
       "     Fantasy            0     0            1        0      1\n",
       "     Sci-Fi             0     0            1        0      1\n",
       "     Short              0     0            1        0      1\n",
       "1912 Biography          0     0            1        0      1\n",
       "     Drama              0     0            1        0      1\n",
       "1913 Comedy             0     0            1        0      2\n",
       "     Short              0     0            1        0      2\n",
       "     Action             0     0            1        0      1\n",
       "1915 Comedy             0     0            1        0      2\n",
       "     Drama              0     0            1        0      2\n",
       "     Short              0     0            1        0      2\n",
       "     History            0     0            1        0      1\n",
       "     War                0     0            1        0      1\n",
       "1916 Drama              0     0            1        0      1\n",
       "     History            0     0            1        0      1\n",
       "1917 Adventure          0     0            1        0      1\n",
       "     Comedy             0     0            1        0      1"
      ]
     },
     "execution_count": 192,
     "metadata": {},
     "output_type": "execute_result"
    }
   ],
   "source": [
    "# Split Genres into a list and explode into separate rows\n",
    "a['Genres_List'] = a['Genres'].str.split(',')\n",
    "exploded_df = a.explode('Genres_List')\n",
    "\n",
    "# Group by 'Year', 'Genres_List', and platforms, counting occurrences\n",
    "genre_platform_counts = exploded_df.groupby(['Year', 'Genres_List', 'Netflix', 'Hulu', 'Prime_Video', 'Disney+']).size().reset_index(name='Count')\n",
    "\n",
    "# Filter rows where platforms have a count > 0\n",
    "genre_platform_counts = genre_platform_counts[\n",
    "    (genre_platform_counts['Netflix'] > 0) | \n",
    "    (genre_platform_counts['Hulu'] > 0) | \n",
    "    (genre_platform_counts['Prime_Video'] > 0) | \n",
    "    (genre_platform_counts['Disney+'] > 0)\n",
    "]\n",
    "\n",
    "# Summarize by Year, Platform, and Genre\n",
    "summary = genre_platform_counts.groupby(['Year', 'Genres_List'])[['Netflix', 'Hulu', 'Prime_Video', 'Disney+', 'Count']].sum()\n",
    "\n",
    "# Sort by Year and Count (descending)\n",
    "summary_sorted = summary.sort_values(['Year', 'Count'], ascending=[True,False])\n",
    "\n",
    "# Display the result\n",
    "summary_sorted.head(20)\n"
   ]
  },
  {
   "cell_type": "code",
   "execution_count": 194,
   "id": "a1e82766-bbc2-439e-ba16-a0e457726a70",
   "metadata": {},
   "outputs": [
    {
     "data": {
      "text/html": [
       "<div>\n",
       "<style scoped>\n",
       "    .dataframe tbody tr th:only-of-type {\n",
       "        vertical-align: middle;\n",
       "    }\n",
       "\n",
       "    .dataframe tbody tr th {\n",
       "        vertical-align: top;\n",
       "    }\n",
       "\n",
       "    .dataframe thead th {\n",
       "        text-align: right;\n",
       "    }\n",
       "</style>\n",
       "<table border=\"1\" class=\"dataframe\">\n",
       "  <thead>\n",
       "    <tr style=\"text-align: right;\">\n",
       "      <th></th>\n",
       "      <th>Year</th>\n",
       "      <th>Genres_List</th>\n",
       "      <th>Count</th>\n",
       "    </tr>\n",
       "  </thead>\n",
       "  <tbody>\n",
       "    <tr>\n",
       "      <th>1858</th>\n",
       "      <td>2017</td>\n",
       "      <td>Drama</td>\n",
       "      <td>565</td>\n",
       "    </tr>\n",
       "    <tr>\n",
       "      <th>1882</th>\n",
       "      <td>2018</td>\n",
       "      <td>Drama</td>\n",
       "      <td>505</td>\n",
       "    </tr>\n",
       "    <tr>\n",
       "      <th>1834</th>\n",
       "      <td>2016</td>\n",
       "      <td>Drama</td>\n",
       "      <td>496</td>\n",
       "    </tr>\n",
       "    <tr>\n",
       "      <th>1809</th>\n",
       "      <td>2015</td>\n",
       "      <td>Drama</td>\n",
       "      <td>460</td>\n",
       "    </tr>\n",
       "    <tr>\n",
       "      <th>1785</th>\n",
       "      <td>2014</td>\n",
       "      <td>Drama</td>\n",
       "      <td>401</td>\n",
       "    </tr>\n",
       "    <tr>\n",
       "      <th>...</th>\n",
       "      <td>...</td>\n",
       "      <td>...</td>\n",
       "      <td>...</td>\n",
       "    </tr>\n",
       "    <tr>\n",
       "      <th>6</th>\n",
       "      <td>1912</td>\n",
       "      <td>Biography</td>\n",
       "      <td>1</td>\n",
       "    </tr>\n",
       "    <tr>\n",
       "      <th>16</th>\n",
       "      <td>1916</td>\n",
       "      <td>Drama</td>\n",
       "      <td>1</td>\n",
       "    </tr>\n",
       "    <tr>\n",
       "      <th>18</th>\n",
       "      <td>1917</td>\n",
       "      <td>Adventure</td>\n",
       "      <td>1</td>\n",
       "    </tr>\n",
       "    <tr>\n",
       "      <th>61</th>\n",
       "      <td>1924</td>\n",
       "      <td>Comedy</td>\n",
       "      <td>1</td>\n",
       "    </tr>\n",
       "    <tr>\n",
       "      <th>77</th>\n",
       "      <td>1927</td>\n",
       "      <td>Adventure</td>\n",
       "      <td>1</td>\n",
       "    </tr>\n",
       "  </tbody>\n",
       "</table>\n",
       "<p>112 rows × 3 columns</p>\n",
       "</div>"
      ],
      "text/plain": [
       "      Year Genres_List  Count\n",
       "1858  2017       Drama    565\n",
       "1882  2018       Drama    505\n",
       "1834  2016       Drama    496\n",
       "1809  2015       Drama    460\n",
       "1785  2014       Drama    401\n",
       "...    ...         ...    ...\n",
       "6     1912   Biography      1\n",
       "16    1916       Drama      1\n",
       "18    1917   Adventure      1\n",
       "61    1924      Comedy      1\n",
       "77    1927   Adventure      1\n",
       "\n",
       "[112 rows x 3 columns]"
      ]
     },
     "execution_count": 194,
     "metadata": {},
     "output_type": "execute_result"
    }
   ],
   "source": [
    "\n",
    "# Create a new column where genres are split into individual genres\n",
    "a['Genres_List'] = a['Genres'].str.split(',')\n",
    "\n",
    "# Explode the list of genres into separate rows\n",
    "exploded_df = a.explode('Genres_List')\n",
    "\n",
    "# Group by 'Year' and 'Genres_List' to count the occurrences of each genre per year\n",
    "genre_counts = exploded_df.groupby(['Year', 'Genres_List']).size().reset_index(name='Count')\n",
    "\n",
    "# Sort by 'Count' in descending order, and 'Year' in ascending order\n",
    "sorted_genre_counts = genre_counts.sort_values(['Count', 'Year'], ascending=[False, True])\n",
    "\n",
    "# You can also filter to get the top genre for each year\n",
    "top_genres_per_year = sorted_genre_counts.groupby('Year').head(1)\n",
    "\n",
    "# Display the result\n",
    "top_genres_per_year[['Year', 'Genres_List', 'Count']]\n"
   ]
  },
  {
   "cell_type": "markdown",
   "id": "e7d83358-4057-4a36-8342-626962984be8",
   "metadata": {},
   "source": [
    "##### conclusion : After looking at data it is clear that Drama geners has top movies in most of the year. "
   ]
  },
  {
   "cell_type": "markdown",
   "id": "90856ae3-eb9e-48da-aeeb-718b70f92678",
   "metadata": {},
   "source": [
    "### ---------------------------------------------------------------------------------------------------------------------------------"
   ]
  },
  {
   "cell_type": "markdown",
   "id": "368529f2-c68f-43bc-ba40-7722ec499f8b",
   "metadata": {},
   "source": [
    "#### What is the rating distribution on OTT platforms (overall and split by platform)?"
   ]
  },
  {
   "cell_type": "code",
   "execution_count": 198,
   "id": "5a0ea236-4288-4d01-8fb2-c6a083022b1e",
   "metadata": {},
   "outputs": [
    {
     "data": {
      "image/png": "[encoded data removed]",
      "text/plain": [
       "<Figure size 640x480 with 1 Axes>"
      ]
     },
     "metadata": {},
     "output_type": "display_data"
    }
   ],
   "source": [
    "sns.histplot(movies, x='IMDb', hue='Platform', kde=True, bins=20)\n",
    "plt.title(\"Rating Distribution by Platform\")\n",
    "plt.show()"
   ]
  },
  {
   "cell_type": "markdown",
   "id": "2da44b3e-e3b5-4570-b11c-3b76aea1ab22",
   "metadata": {},
   "source": [
    "##### conclusion : Visual representation of rating distribution for all platforms are normal distribution."
   ]
  },
  {
   "cell_type": "markdown",
   "id": "eef6d994-374e-4935-bcf4-9ba35297c58e",
   "metadata": {},
   "source": [
    "### ---------------------------------------------------------------------------------------------------------------------------------"
   ]
  },
  {
   "cell_type": "markdown",
   "id": "b0166818-7ec2-41bf-bc47-1fad538d5acc",
   "metadata": {},
   "source": [
    "#### What is the distribution of IMDb ratings for movies released in the last 5 years?"
   ]
  },
  {
   "cell_type": "code",
   "execution_count": 202,
   "id": "038c5a99-14d3-459f-bdcb-23941f769dc8",
   "metadata": {},
   "outputs": [
    {
     "data": {
      "image/png": "[encoded data removed]",
      "text/plain": [
       "<Figure size 640x480 with 1 Axes>"
      ]
     },
     "metadata": {},
     "output_type": "display_data"
    }
   ],
   "source": [
    "recent_movies = movies[movies['Year'] >= movies['Year'].max() - 5]\n",
    "sns.histplot(recent_movies, x='IMDb', kde=True, bins=20)\n",
    "plt.title(\"Rating Distribution for Last 5 Years\")\n",
    "plt.show()\n"
   ]
  },
  {
   "cell_type": "markdown",
   "id": "b87096cc-8c33-475c-91e6-3adbabe8ee58",
   "metadata": {},
   "source": [
    "### ---------------------------------------------------------------------------------------------------------------------------------"
   ]
  },
  {
   "cell_type": "markdown",
   "id": "225f4638-1972-4b0e-a7e8-18e9c0d69f9e",
   "metadata": {},
   "source": [
    "#### How does the average movie runtime vary across OTT platforms?"
   ]
  },
  {
   "cell_type": "code",
   "execution_count": 205,
   "id": "f9280957-6297-4eab-b5e7-0868f98d1974",
   "metadata": {},
   "outputs": [
    {
     "data": {
      "text/html": [
       "<div>\n",
       "<style scoped>\n",
       "    .dataframe tbody tr th:only-of-type {\n",
       "        vertical-align: middle;\n",
       "    }\n",
       "\n",
       "    .dataframe tbody tr th {\n",
       "        vertical-align: top;\n",
       "    }\n",
       "\n",
       "    .dataframe thead th {\n",
       "        text-align: right;\n",
       "    }\n",
       "</style>\n",
       "<table border=\"1\" class=\"dataframe\">\n",
       "  <thead>\n",
       "    <tr style=\"text-align: right;\">\n",
       "      <th></th>\n",
       "      <th>Runtime_in_Min</th>\n",
       "    </tr>\n",
       "    <tr>\n",
       "      <th>Platform</th>\n",
       "      <th></th>\n",
       "    </tr>\n",
       "  </thead>\n",
       "  <tbody>\n",
       "    <tr>\n",
       "      <th>Disney+</th>\n",
       "      <td>91.817021</td>\n",
       "    </tr>\n",
       "    <tr>\n",
       "      <th>Hulu</th>\n",
       "      <td>95.724461</td>\n",
       "    </tr>\n",
       "    <tr>\n",
       "      <th>Netflix</th>\n",
       "      <td>99.357081</td>\n",
       "    </tr>\n",
       "    <tr>\n",
       "      <th>Prime_Video</th>\n",
       "      <td>92.784876</td>\n",
       "    </tr>\n",
       "  </tbody>\n",
       "</table>\n",
       "</div>"
      ],
      "text/plain": [
       "             Runtime_in_Min\n",
       "Platform                   \n",
       "Disney+           91.817021\n",
       "Hulu              95.724461\n",
       "Netflix           99.357081\n",
       "Prime_Video       92.784876"
      ]
     },
     "execution_count": 205,
     "metadata": {},
     "output_type": "execute_result"
    }
   ],
   "source": [
    "avg_runtime_per_platform = movies.groupby('Platform')['Runtime_in_Min'].mean()\n",
    "pd.DataFrame(avg_runtime_per_platform)\n"
   ]
  },
  {
   "cell_type": "markdown",
   "id": "fc896c33-c523-4799-8064-c0f5a7384452",
   "metadata": {},
   "source": [
    "##### conclusion : From a runtime perspective, Netflix could be considered the platform offering longer movies, while Disney+ leans towards shorter films. If your goal is to focus on longer movies for certain genres or preferences, Netflix might be the platform to prioritize."
   ]
  },
  {
   "cell_type": "markdown",
   "id": "fa19ad9a-359c-483b-8d12-af2ee056e41f",
   "metadata": {},
   "source": [
    "### ---------------------------------------------------------------------------------------------------------------------------------"
   ]
  },
  {
   "cell_type": "markdown",
   "id": "88e9faa1-bc4f-4433-9ffa-8a34ce5c76c3",
   "metadata": {},
   "source": [
    "#### How old are the movies on OTT platforms on average (overall and split by platform)?"
   ]
  },
  {
   "cell_type": "code",
   "execution_count": 209,
   "id": "cbecc751-aba6-4741-b872-4ca5328e8e28",
   "metadata": {},
   "outputs": [
    {
     "data": {
      "text/html": [
       "<div>\n",
       "<style scoped>\n",
       "    .dataframe tbody tr th:only-of-type {\n",
       "        vertical-align: middle;\n",
       "    }\n",
       "\n",
       "    .dataframe tbody tr th {\n",
       "        vertical-align: top;\n",
       "    }\n",
       "\n",
       "    .dataframe thead th {\n",
       "        text-align: right;\n",
       "    }\n",
       "</style>\n",
       "<table border=\"1\" class=\"dataframe\">\n",
       "  <thead>\n",
       "    <tr style=\"text-align: right;\">\n",
       "      <th></th>\n",
       "      <th>Movie_Age</th>\n",
       "    </tr>\n",
       "    <tr>\n",
       "      <th>Platform</th>\n",
       "      <th></th>\n",
       "    </tr>\n",
       "  </thead>\n",
       "  <tbody>\n",
       "    <tr>\n",
       "      <th>Disney+</th>\n",
       "      <td>24.843585</td>\n",
       "    </tr>\n",
       "    <tr>\n",
       "      <th>Hulu</th>\n",
       "      <td>10.282609</td>\n",
       "    </tr>\n",
       "    <tr>\n",
       "      <th>Netflix</th>\n",
       "      <td>9.049358</td>\n",
       "    </tr>\n",
       "    <tr>\n",
       "      <th>Prime_Video</th>\n",
       "      <td>23.307965</td>\n",
       "    </tr>\n",
       "  </tbody>\n",
       "</table>\n",
       "</div>"
      ],
      "text/plain": [
       "             Movie_Age\n",
       "Platform              \n",
       "Disney+      24.843585\n",
       "Hulu         10.282609\n",
       "Netflix       9.049358\n",
       "Prime_Video  23.307965"
      ]
     },
     "execution_count": 209,
     "metadata": {},
     "output_type": "execute_result"
    }
   ],
   "source": [
    "movies['Movie_Age'] = movies['Year'].max() - movies['Year']\n",
    "avg_movie_age = movies.groupby('Platform')['Movie_Age'].mean()\n",
    "pd.DataFrame(avg_movie_age)\n"
   ]
  },
  {
   "cell_type": "markdown",
   "id": "6c3608bc-6dd9-419f-8765-f9c9614778df",
   "metadata": {},
   "source": [
    "##### conclusion : For the best platform for new movie releases, Hulu and Netflix stand out due to their younger average movie ages."
   ]
  },
  {
   "cell_type": "markdown",
   "id": "5d41b15f-f185-4154-9c48-cd387cd0220b",
   "metadata": {},
   "source": [
    "### ---------------------------------------------------------------------------------------------------------------------------------"
   ]
  },
  {
   "cell_type": "markdown",
   "id": "031d435f-72c6-43b9-97e8-3ce0bc1e7630",
   "metadata": {},
   "source": [
    "#### How does the average IMDb rating of movies differ between platforms for the same genres?\n"
   ]
  },
  {
   "cell_type": "code",
   "execution_count": 260,
   "id": "d7de8aef-1351-4a21-88af-4b33fe708fa6",
   "metadata": {},
   "outputs": [
    {
     "data": {
      "text/html": [
       "<div>\n",
       "<style scoped>\n",
       "    .dataframe tbody tr th:only-of-type {\n",
       "        vertical-align: middle;\n",
       "    }\n",
       "\n",
       "    .dataframe tbody tr th {\n",
       "        vertical-align: top;\n",
       "    }\n",
       "\n",
       "    .dataframe thead th {\n",
       "        text-align: right;\n",
       "    }\n",
       "</style>\n",
       "<table border=\"1\" class=\"dataframe\">\n",
       "  <thead>\n",
       "    <tr style=\"text-align: right;\">\n",
       "      <th></th>\n",
       "      <th></th>\n",
       "      <th>IMDb</th>\n",
       "    </tr>\n",
       "    <tr>\n",
       "      <th>Platform</th>\n",
       "      <th>Genres</th>\n",
       "      <th></th>\n",
       "    </tr>\n",
       "  </thead>\n",
       "  <tbody>\n",
       "    <tr>\n",
       "      <th>Hulu</th>\n",
       "      <th>Adventure,Biography,Drama,Thriller</th>\n",
       "      <td>9.3</td>\n",
       "    </tr>\n",
       "    <tr>\n",
       "      <th rowspan=\"2\" valign=\"top\">Prime_Video</th>\n",
       "      <th>Drama,Family,Romance,Western</th>\n",
       "      <td>9.3</td>\n",
       "    </tr>\n",
       "    <tr>\n",
       "      <th>Documentary,Action,Family,History</th>\n",
       "      <td>9.3</td>\n",
       "    </tr>\n",
       "    <tr>\n",
       "      <th>Netflix</th>\n",
       "      <th>Comedy,Musical</th>\n",
       "      <td>9.3</td>\n",
       "    </tr>\n",
       "    <tr>\n",
       "      <th rowspan=\"7\" valign=\"top\">Prime_Video</th>\n",
       "      <th>Action,Adventure,Comedy,War,Western</th>\n",
       "      <td>9.3</td>\n",
       "    </tr>\n",
       "    <tr>\n",
       "      <th>...</th>\n",
       "      <td>...</td>\n",
       "    </tr>\n",
       "    <tr>\n",
       "      <th>Action,Adventure,Drama,Fantasy,Horror,Mystery,Sci-Fi,Thriller</th>\n",
       "      <td>1.7</td>\n",
       "    </tr>\n",
       "    <tr>\n",
       "      <th>Animation,Family,Fantasy,Romance</th>\n",
       "      <td>1.6</td>\n",
       "    </tr>\n",
       "    <tr>\n",
       "      <th>Action,Drama,Horror,Sci-Fi,Thriller,War</th>\n",
       "      <td>1.6</td>\n",
       "    </tr>\n",
       "    <tr>\n",
       "      <th>Drama,Family,Fantasy,Musical</th>\n",
       "      <td>1.4</td>\n",
       "    </tr>\n",
       "    <tr>\n",
       "      <th>Action,Comedy,Fantasy,Horror,Mystery,Sci-Fi,Thriller</th>\n",
       "      <td>1.3</td>\n",
       "    </tr>\n",
       "  </tbody>\n",
       "</table>\n",
       "<p>2687 rows × 1 columns</p>\n",
       "</div>"
      ],
      "text/plain": [
       "                                                                IMDb\n",
       "Platform    Genres                                                  \n",
       "Hulu        Adventure,Biography,Drama,Thriller                   9.3\n",
       "Prime_Video Drama,Family,Romance,Western                         9.3\n",
       "            Documentary,Action,Family,History                    9.3\n",
       "Netflix     Comedy,Musical                                       9.3\n",
       "Prime_Video Action,Adventure,Comedy,War,Western                  9.3\n",
       "...                                                              ...\n",
       "            Action,Adventure,Drama,Fantasy,Horror,Mystery,S...   1.7\n",
       "            Animation,Family,Fantasy,Romance                     1.6\n",
       "            Action,Drama,Horror,Sci-Fi,Thriller,War              1.6\n",
       "            Drama,Family,Fantasy,Musical                         1.4\n",
       "            Action,Comedy,Fantasy,Horror,Mystery,Sci-Fi,Thr...   1.3\n",
       "\n",
       "[2687 rows x 1 columns]"
      ]
     },
     "execution_count": 260,
     "metadata": {},
     "output_type": "execute_result"
    }
   ],
   "source": [
    "avg_ratings = movies.groupby(['Platform', 'Genres'])['IMDb'].mean()\n",
    "pd.DataFrame(avg_ratings).sort_values(by=\"IMDb\",ascending=False)\n"
   ]
  },
  {
   "cell_type": "markdown",
   "id": "69707477-a34d-42fa-824d-05089ab5fe34",
   "metadata": {},
   "source": [
    "##### conclusion : Hulu, Prime Video, and Netflix excel in niche genres like Drama, Family and Comedy, Musical with IMDb ratings of 9.3, while some multi-genre combinations score as low as 1.3. This highlights strengths in specific genres and areas needing improvement"
   ]
  },
  {
   "cell_type": "markdown",
   "id": "7a55da69-ba6a-4b25-b98b-426343a8e901",
   "metadata": {},
   "source": [
    "### ---------------------------------------------------------------------------------------------------------------------------------"
   ]
  },
  {
   "cell_type": "markdown",
   "id": "20216021-e035-4f0c-aad2-fc8b8b00e0a6",
   "metadata": {},
   "source": [
    "#### Diversity of genres on each platform ?"
   ]
  },
  {
   "cell_type": "code",
   "execution_count": 252,
   "id": "0e809039-3bc6-4ed8-96e5-d20ba0542c2d",
   "metadata": {},
   "outputs": [
    {
     "data": {
      "text/html": [
       "<div>\n",
       "<style scoped>\n",
       "    .dataframe tbody tr th:only-of-type {\n",
       "        vertical-align: middle;\n",
       "    }\n",
       "\n",
       "    .dataframe tbody tr th {\n",
       "        vertical-align: top;\n",
       "    }\n",
       "\n",
       "    .dataframe thead th {\n",
       "        text-align: right;\n",
       "    }\n",
       "</style>\n",
       "<table border=\"1\" class=\"dataframe\">\n",
       "  <thead>\n",
       "    <tr style=\"text-align: right;\">\n",
       "      <th></th>\n",
       "      <th>Genres</th>\n",
       "    </tr>\n",
       "    <tr>\n",
       "      <th>Platform</th>\n",
       "      <th></th>\n",
       "    </tr>\n",
       "  </thead>\n",
       "  <tbody>\n",
       "    <tr>\n",
       "      <th>Disney+</th>\n",
       "      <td>271</td>\n",
       "    </tr>\n",
       "    <tr>\n",
       "      <th>Hulu</th>\n",
       "      <td>262</td>\n",
       "    </tr>\n",
       "    <tr>\n",
       "      <th>Netflix</th>\n",
       "      <td>636</td>\n",
       "    </tr>\n",
       "    <tr>\n",
       "      <th>Prime_Video</th>\n",
       "      <td>1518</td>\n",
       "    </tr>\n",
       "  </tbody>\n",
       "</table>\n",
       "</div>"
      ],
      "text/plain": [
       "             Genres\n",
       "Platform           \n",
       "Disney+         271\n",
       "Hulu            262\n",
       "Netflix         636\n",
       "Prime_Video    1518"
      ]
     },
     "execution_count": 252,
     "metadata": {},
     "output_type": "execute_result"
    }
   ],
   "source": [
    "genre_diversity = movies.groupby('Platform')['Genres'].nunique()\n",
    "pd.DataFrame(genre_diversity)"
   ]
  },
  {
   "cell_type": "markdown",
   "id": "98819576-e066-41ed-96d0-dd6730c60967",
   "metadata": {},
   "source": [
    "#  ----------------------------------------------------------------------------------------"
   ]
  },
  {
   "cell_type": "markdown",
   "id": "693c2141-650c-4f6e-8d90-dbbc501aa3a5",
   "metadata": {},
   "source": [
    "### Final Conclusion:\n",
    "\n",
    "#### Based on the analysis, the following insights can be drawn to determine the best OTT platform for movie releases based on genres, IMDb ratings, and other key factors:\n",
    "\n",
    "###### .\n",
    "\n",
    "#### Content Availability:\n",
    "##### Prime Video offers the most content, making it a diverse platform in terms of quantity.\n",
    "##### Netflix and Hulu follow closely, while Disney+ has a more focused content library.\n",
    "\n",
    "###### .\n",
    "\n",
    "#### Genre-Specific Insights:\n",
    "##### Drama emerges as the dominant genre across most platforms, followed by Comedy and Thriller.\n",
    "##### Disney+ excels in Family, Comedy, and Adventure genres, while other platforms favor Drama.\n",
    "##### Niche genres like Comedy, Musical and Drama, Family achieve the highest IMDb ratings (up to 9.3), showcasing Hulu, Netflix, and Prime Video's strengths in these areas.\n",
    " \n",
    "##### .\n",
    "\n",
    "#### Quality of Content:\n",
    "##### Disney+ leads in quality with the highest proportion of highly rated movies and excels in exclusive movies based on IMDb ratings.\n",
    "##### Prime Video lags behind in overall quality but compensates with its vast library.\n",
    "\n",
    "##### .\n",
    "\n",
    "#### Audience Preferences:\n",
    "##### Netflix caters to audiences seeking longer runtime movies, while Disney+ focuses on shorter films, ideal for family-oriented content.\n",
    "##### For newer movie releases, Hulu and Netflix stand out with younger average movie ages.\n",
    "\n",
    "##### .\n",
    "\n",
    "\n",
    "#### Rating Distribution:\n",
    "##### The rating distribution across all platforms generally follows a normal pattern, indicating consistency in audience reception.\n",
    "\n",
    "##### .\n",
    "\n",
    "\n",
    "#### Platform Strengths:\n",
    "##### Disney+ stands out for its high-quality and family-friendly movies.\n",
    "##### Hulu and Netflix are excellent platforms for new movie releases and niche genres.\n",
    "##### Prime Video shines in diversity but needs improvement in exclusive content quality.\n"
   ]
  },
  {
   "cell_type": "markdown",
   "id": "4808b93e-de5c-458c-b511-45dc63497fc4",
   "metadata": {},
   "source": [
    "## Recommendation:\n",
    "### For new movie releases, Hulu and Netflix are optimal choices due to their younger movie catalogs and strengths in popular genres like Drama and Comedy. If the focus is on high-quality, family-friendly movies, Disney+ is the preferred platform. Prime Video, while offering vast content, should prioritize improving the quality of its exclusive movies."
   ]
  },
  {
   "cell_type": "markdown",
   "id": "be1c22f7-7300-453e-9308-55c4230c9a59",
   "metadata": {},
   "source": [
    "# --------------------------------------------------------------------------------------"
   ]
  },
  {
   "cell_type": "markdown",
   "id": "6bb48780-0437-400b-b4fb-1cf75fa9b03a",
   "metadata": {},
   "source": [
    "# Project Summery\n",
    "\n",
    "##  Objective:\n",
    "#### Determine the best OTT platform for new movie releases based on genres and IMDb ratings.\n",
    "\n",
    "\n",
    "## Key Insights:\n",
    "#### Hulu and Netflix are optimal for Drama, Comedy, and Thriller genres due to their newer catalogs and higher viewer ratings.\n",
    "#### Disney+ excels in Family, Adventure, and Fantasy genres, making it the best platform for high-quality, family-friendly content.\n",
    "#### Prime Video offers a vast selection, especially in Action, Sci-Fi, and Thriller genres, but needs to improve the quality of its exclusive movies.\n",
    "\n",
    "## Recommendation:\n",
    "#### For new movie releases, Hulu and Netflix are optimal choices due to their younger movie catalogs and strengths in popular genres like Drama and Comedy. If the focus is on high-quality, family-friendly movies, Disney+ is the preferred platform. Prime Video, while offering vast content, should prioritize improving the quality of its exclusive movies."
   ]
  },
  {
   "cell_type": "markdown",
   "id": "e2152635-3839-41a5-92f9-c5684cc95e47",
   "metadata": {},
   "source": [
    "# -----------------------------------THANK YOU---------------------------------------"
   ]
  },
  {
   "cell_type": "code",
   "execution_count": null,
   "id": "3b4e0866-9c4e-465c-9cc6-45c50caba2ca",
   "metadata": {},
   "outputs": [],
   "source": []
  }
 ],
 "metadata": {
  "kernelspec": {
   "display_name": "Python 3 (ipykernel)",
   "language": "python",
   "name": "python3"
  },
  "language_info": {
   "codemirror_mode": {
    "name": "ipython",
    "version": 3
   },
   "file_extension": ".py",
   "mimetype": "text/x-python",
   "name": "python",
   "nbconvert_exporter": "python",
   "pygments_lexer": "ipython3",
   "version": "3.12.4"
  }
 },
 "nbformat": 4,
 "nbformat_minor": 5
}
